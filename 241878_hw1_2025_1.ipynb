{
 "cells": [
  {
   "cell_type": "code",
   "execution_count": 1,
   "id": "5aa9f8ee",
   "metadata": {},
   "outputs": [],
   "source": [
    "from selenium import webdriver\n",
    "import re\n",
    "import time \n",
    "from selenium.webdriver.common.by import By"
   ]
  },
  {
   "cell_type": "code",
   "execution_count": 3,
   "id": "9f7eb9ed",
   "metadata": {},
   "outputs": [],
   "source": [
    "# Set up Selenium\n",
    "driver = webdriver.Chrome()\n",
    "driver.maximize_window()\n",
    "driver.maximize_window()\n",
    "\n",
    "# Navigate to the Bumeran website\n",
    "url = \"https://www.bumeran.com.pe/empleos.html\"\n",
    "driver.get(url)"
   ]
  },
  {
   "cell_type": "code",
   "execution_count": 8,
   "id": "f80eca5e",
   "metadata": {},
   "outputs": [],
   "source": [
    "from selenium import webdriver\n",
    "from selenium.webdriver.common.by import By\n",
    "from selenium.webdriver.common.action_chains import ActionChains\n",
    "from selenium.webdriver.common.keys import Keys\n",
    "import time\n",
    "\n",
    "# Configurar el navegador (usar Chrome en este caso)\n",
    "driver = webdriver.Chrome()\n",
    "\n",
    "# Ir a la página web donde están los botones\n",
    "driver.get(url)  # Reemplaza con la URL real\n",
    "\n",
    "# Esperar a que la página cargue completamente\n",
    "time.sleep(3)  \n",
    "\n",
    "# Hacer clic en \"Fecha de publicación\"\n",
    "fecha_pub_button = driver.find_element(By.XPATH, \"//button[contains(text(), 'Fecha de publicación')]\")\n",
    "fecha_pub_button.click()\n",
    "time.sleep(2)\n",
    "\n",
    "# Hacer clic en \"Menor a 15 días\"\n",
    "menor_15_button = driver.find_element(By.XPATH, \"//button[contains(text(), 'Menor a 15 días')]\")\n",
    "menor_15_button.click()\n",
    "time.sleep(2)\n",
    "\n",
    "# Hacer clic en \"Área\"\n",
    "area_button = driver.find_element(By.XPATH, \"//button[contains(text(), 'Área')]\")\n",
    "area_button.click()\n",
    "time.sleep(2)\n",
    "\n",
    "# Hacer clic en \"Tecnología, Sistemas y Telecomunicaciones\"\n",
    "tecnologia_button = driver.find_element(By.XPATH, \"//button[contains(text(), 'Tecnología, Sistemas y Telecomunicaciones')]\")\n",
    "tecnologia_button.click()\n",
    "time.sleep(2)\n",
    "\n",
    "# Hacer clic en \"Subárea\"\n",
    "subarea_button = driver.find_element(By.XPATH, \"//button[contains(text(), 'Subárea')]\")\n",
    "subarea_button.click()\n",
    "time.sleep(2)\n",
    "\n",
    "# Hacer clic en \"Programación\"\n",
    "programacion_button = driver.find_element(By.XPATH, \"//button[contains(text(), 'Programación')]\")\n",
    "programacion_button.click()\n",
    "time.sleep(2)\n",
    "\n",
    "# Hacer clic en \"Departamento\"\n",
    "departamento_button = driver.find_element(By.XPATH, \"//button[contains(text(), 'Departamento')]\")\n",
    "departamento_button.click()\n",
    "time.sleep(2)\n",
    "\n",
    "# Hacer clic en \"Lima\"\n",
    "lima_button = driver.find_element(By.XPATH, \"//button[contains(text(), 'Lima')]\")\n",
    "lima_button.click()\n",
    "time.sleep(2)\n",
    "\n",
    "# Hacer clic en \"Carga horaria\"\n",
    "carga_horaria_button = driver.find_element(By.XPATH, \"//button[contains(text(), 'Carga horaria')]\")\n",
    "carga_horaria_button.click()\n",
    "time.sleep(2)\n",
    "\n",
    "# Hacer clic en \"Full-time\"\n",
    "fulltime_button = driver.find_element(By.XPATH, \"//button[contains(text(), 'Full-time')]\")\n",
    "fulltime_button.click()\n",
    "time.sleep(5)\n",
    "\n"
   ]
  }
 ],
 "metadata": {
  "kernelspec": {
   "display_name": "web-scraping-env",
   "language": "python",
   "name": "python3"
  },
  "language_info": {
   "codemirror_mode": {
    "name": "ipython",
    "version": 3
   },
   "file_extension": ".py",
   "mimetype": "text/x-python",
   "name": "python",
   "nbconvert_exporter": "python",
   "pygments_lexer": "ipython3",
   "version": "3.10.16"
  }
 },
 "nbformat": 4,
 "nbformat_minor": 5
}
