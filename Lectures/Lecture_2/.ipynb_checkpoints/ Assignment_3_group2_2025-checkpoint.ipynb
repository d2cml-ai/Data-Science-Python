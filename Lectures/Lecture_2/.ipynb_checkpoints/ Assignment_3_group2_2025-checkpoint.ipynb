{
 "cells": [
  {
   "cell_type": "markdown",
   "metadata": {},
   "source": [
    "Assignment_3"
   ]
  },
  {
   "cell_type": "code",
   "execution_count": 110,
   "metadata": {},
   "outputs": [],
   "source": [
    "\n",
    "# !pip install -r requirements.txt\n",
    "\n",
    "# this library is to manipulate browser\n",
    "from selenium import webdriver\n",
    "\n",
    "# it allows you to work with differen versions of drivers\n",
    "# We call ChromeDriver\n",
    "# from webdriver_manager.chrome import ChromeDriverManager\n",
    "import re\n",
    "import time \n",
    "from selenium.webdriver.common.by import By\n",
    "\n",
    "#After we install libraries and set drivers, we are going to use the chrome driver to navigate the website"
   ]
  },
  {
   "cell_type": "code",
   "execution_count": 111,
   "metadata": {},
   "outputs": [],
   "source": [
    "#We entered to the website and detected a frame.\n",
    "driver = webdriver.Chrome()\n",
    "url = \"https://apps5.mineco.gob.pe/transparencia/Navegador/default.aspx?y=2014&ap=ActProy\"\n",
    "driver.get(url)"
   ]
  },
  {
   "cell_type": "code",
   "execution_count": 112,
   "metadata": {},
   "outputs": [],
   "source": [
    "driver.maximize_window()"
   ]
  },
  {
   "cell_type": "code",
   "execution_count": 113,
   "metadata": {},
   "outputs": [
    {
     "name": "stdout",
     "output_type": "stream",
     "text": [
      "There are frames in this web page.\n",
      "HTML code of frame (i) :\n",
      "<frame name=\"frame0\" id=\"frame0\" src=\"Navegar.aspx?y=2014&amp;ap=ActProy\" scrolling=\"yes\">\n",
      "No frames found on the page\n"
     ]
    }
   ],
   "source": [
    "frames = driver. find_elements (By. TAG_NAME, \"frame\")\n",
    "if frames:\n",
    "    print ('There are frames in this web page.')\n",
    "    for i, frame in enumerate (frames) :\n",
    "        frame_html = frame.get_attribute ( 'outerHTML')\n",
    "        print (f'HTML code of frame (i) :')\n",
    "        print (frame_html)\n",
    "    else:\n",
    "        print ('No frames found on the page')"
   ]
  },
  {
   "cell_type": "code",
   "execution_count": 114,
   "metadata": {},
   "outputs": [],
   "source": [
    "frame = driver.find_element (By . ID, \"frame0\" )\n",
    "driver.switch_to.frame (frame)"
   ]
  },
  {
   "cell_type": "code",
   "execution_count": 115,
   "metadata": {},
   "outputs": [],
   "source": [
    "#We select the government level\n",
    "driver.find_element( By.ID, 'ctl00_CPH1_BtnTipoGobierno').click()"
   ]
  },
  {
   "cell_type": "code",
   "execution_count": 116,
   "metadata": {},
   "outputs": [],
   "source": [
    "#We choose regional governments, and then sheet\n",
    "driver.find_element(By.ID,\"tr2\").click()\n",
    "time.sleep(2)\n",
    "driver.find_element( By.ID, 'ctl00_CPH1_BtnSector').click()"
   ]
  },
  {
   "cell_type": "code",
   "execution_count": 117,
   "metadata": {},
   "outputs": [],
   "source": [
    "driver.find_element(By.ID,\"tr1\").click()\n",
    "time.sleep(2)\n",
    "driver.find_element( By.ID, 'ctl00_CPH1_BtnPliego').click()"
   ]
  },
  {
   "cell_type": "code",
   "execution_count": 118,
   "metadata": {},
   "outputs": [],
   "source": [
    "#We choose Cajamarca and then the budget category button\n",
    "driver.find_element(By.ID,\"ctl00_CPH1_RptData_ctl06_TD0\").click()\n",
    "time.sleep(2)\n",
    "driver.find_element( By.ID, 'ctl00_CPH1_BtnProgramaPpto').click()"
   ]
  },
  {
   "cell_type": "code",
   "execution_count": 119,
   "metadata": {},
   "outputs": [],
   "source": [
    "from io import StringIO"
   ]
  },
  {
   "cell_type": "code",
   "execution_count": 120,
   "metadata": {},
   "outputs": [],
   "source": [
    "#We show a table with full data\n",
    "table_element = driver.find_element( By.XPATH, \"//table[@class='Data']\" )\n",
    "table_html    = table_element.get_attribute( 'outerHTML' )\n",
    "table_html_io = StringIO( table_html )\n",
    "table_df      = pd.read_html( table_html_io )[ 0 ]"
   ]
  },
  {
   "cell_type": "code",
   "execution_count": 121,
   "metadata": {
    "scrolled": true
   },
   "outputs": [
    {
     "data": {
      "text/html": [
       "<div>\n",
       "<style scoped>\n",
       "    .dataframe tbody tr th:only-of-type {\n",
       "        vertical-align: middle;\n",
       "    }\n",
       "\n",
       "    .dataframe tbody tr th {\n",
       "        vertical-align: top;\n",
       "    }\n",
       "\n",
       "    .dataframe thead th {\n",
       "        text-align: right;\n",
       "    }\n",
       "</style>\n",
       "<table border=\"1\" class=\"dataframe\">\n",
       "  <thead>\n",
       "    <tr style=\"text-align: right;\">\n",
       "      <th></th>\n",
       "      <th>0</th>\n",
       "      <th>1</th>\n",
       "      <th>2</th>\n",
       "      <th>3</th>\n",
       "      <th>4</th>\n",
       "      <th>5</th>\n",
       "      <th>6</th>\n",
       "      <th>7</th>\n",
       "      <th>8</th>\n",
       "      <th>9</th>\n",
       "    </tr>\n",
       "  </thead>\n",
       "  <tbody>\n",
       "    <tr>\n",
       "      <th>0</th>\n",
       "      <td>NaN</td>\n",
       "      <td>0001: PROGRAMA ARTICULADO NUTRICIONAL</td>\n",
       "      <td>41044909</td>\n",
       "      <td>96316564</td>\n",
       "      <td>89869230</td>\n",
       "      <td>89775394</td>\n",
       "      <td>89775394</td>\n",
       "      <td>89449235</td>\n",
       "      <td>89252944</td>\n",
       "      <td>92.9</td>\n",
       "    </tr>\n",
       "    <tr>\n",
       "      <th>1</th>\n",
       "      <td>NaN</td>\n",
       "      <td>0002: SALUD MATERNO NEONATAL</td>\n",
       "      <td>40874153</td>\n",
       "      <td>129843358</td>\n",
       "      <td>98844328</td>\n",
       "      <td>98603032</td>\n",
       "      <td>98603032</td>\n",
       "      <td>98349852</td>\n",
       "      <td>98264496</td>\n",
       "      <td>75.7</td>\n",
       "    </tr>\n",
       "    <tr>\n",
       "      <th>2</th>\n",
       "      <td>NaN</td>\n",
       "      <td>0016: TBC-VIH/SIDA</td>\n",
       "      <td>8746106</td>\n",
       "      <td>15459231</td>\n",
       "      <td>14399714</td>\n",
       "      <td>14399286</td>\n",
       "      <td>14399286</td>\n",
       "      <td>14220827</td>\n",
       "      <td>14150232</td>\n",
       "      <td>92.0</td>\n",
       "    </tr>\n",
       "    <tr>\n",
       "      <th>3</th>\n",
       "      <td>NaN</td>\n",
       "      <td>0017: ENFERMEDADES METAXENICAS Y ZOONOSIS</td>\n",
       "      <td>6306241</td>\n",
       "      <td>10774383</td>\n",
       "      <td>10622811</td>\n",
       "      <td>10622811</td>\n",
       "      <td>10622811</td>\n",
       "      <td>10606563</td>\n",
       "      <td>10605373</td>\n",
       "      <td>98.4</td>\n",
       "    </tr>\n",
       "    <tr>\n",
       "      <th>4</th>\n",
       "      <td>NaN</td>\n",
       "      <td>0018: ENFERMEDADES NO TRANSMISIBLES</td>\n",
       "      <td>8484164</td>\n",
       "      <td>16957499</td>\n",
       "      <td>16594047</td>\n",
       "      <td>16585849</td>\n",
       "      <td>16585849</td>\n",
       "      <td>16539224</td>\n",
       "      <td>16537581</td>\n",
       "      <td>97.5</td>\n",
       "    </tr>\n",
       "  </tbody>\n",
       "</table>\n",
       "</div>"
      ],
      "text/plain": [
       "    0                                          1         2          3  \\\n",
       "0 NaN      0001: PROGRAMA ARTICULADO NUTRICIONAL  41044909   96316564   \n",
       "1 NaN               0002: SALUD MATERNO NEONATAL  40874153  129843358   \n",
       "2 NaN                         0016: TBC-VIH/SIDA   8746106   15459231   \n",
       "3 NaN  0017: ENFERMEDADES METAXENICAS Y ZOONOSIS   6306241   10774383   \n",
       "4 NaN        0018: ENFERMEDADES NO TRANSMISIBLES   8484164   16957499   \n",
       "\n",
       "          4         5         6         7         8     9  \n",
       "0  89869230  89775394  89775394  89449235  89252944  92.9  \n",
       "1  98844328  98603032  98603032  98349852  98264496  75.7  \n",
       "2  14399714  14399286  14399286  14220827  14150232  92.0  \n",
       "3  10622811  10622811  10622811  10606563  10605373  98.4  \n",
       "4  16594047  16585849  16585849  16539224  16537581  97.5  "
      ]
     },
     "execution_count": 121,
     "metadata": {},
     "output_type": "execute_result"
    }
   ],
   "source": [
    "table_df.head( 5 )"
   ]
  },
  {
   "cell_type": "code",
   "execution_count": 122,
   "metadata": {},
   "outputs": [
    {
     "name": "stdout",
     "output_type": "stream",
     "text": [
      "[' ', 'Categoría Presupuestal', 'PIA', 'PIM', 'Certificación', 'Compromiso Anual', 'Ejecución', 'Avance % ']\n",
      "['Atención de Compromiso Mensual ', 'Devengado ', 'Girado ']\n"
     ]
    }
   ],
   "source": [
    "#Later we include the columns\n",
    "headers_elements_r0 = driver.find_element( By.XPATH, '//*[@id=\"ctl00_CPH1_Mt0_Row0\"]' ).find_elements( By.TAG_NAME, 'td' )\n",
    "headers_r0          = [ element.text for element in headers_elements_r0 ]\n",
    "\n",
    "headers_elements_r1 = driver.find_element( By.XPATH, '//*[@id=\"ctl00_CPH1_Mt0_Row1\"]' ).find_elements( By.TAG_NAME, 'td' )\n",
    "headers_r1          = [ element.text for element in headers_elements_r1 ]\n",
    "\n",
    "print( headers_r0, headers_r1, sep = '\\n' )"
   ]
  },
  {
   "cell_type": "code",
   "execution_count": 123,
   "metadata": {},
   "outputs": [
    {
     "name": "stdout",
     "output_type": "stream",
     "text": [
      "[' ', 'Categoría Presupuestal', 'PIA', 'PIM', 'Certificación', 'Compromiso Anual', 'Atención de Compromiso Mensual ', 'Devengado ', 'Girado ', 'Avance %']\n"
     ]
    }
   ],
   "source": [
    "headers_r0 = [ header for header in headers_r0 if header not in [ 'Ejecución', 'Avance % ' ] ]\n",
    "headers = headers_r0 + headers_r1 + [ 'Avance %' ]\n",
    "print( headers )"
   ]
  },
  {
   "cell_type": "code",
   "execution_count": 124,
   "metadata": {
    "scrolled": true
   },
   "outputs": [
    {
     "data": {
      "text/html": [
       "<div>\n",
       "<style scoped>\n",
       "    .dataframe tbody tr th:only-of-type {\n",
       "        vertical-align: middle;\n",
       "    }\n",
       "\n",
       "    .dataframe tbody tr th {\n",
       "        vertical-align: top;\n",
       "    }\n",
       "\n",
       "    .dataframe thead th {\n",
       "        text-align: right;\n",
       "    }\n",
       "</style>\n",
       "<table border=\"1\" class=\"dataframe\">\n",
       "  <thead>\n",
       "    <tr style=\"text-align: right;\">\n",
       "      <th></th>\n",
       "      <th>Categoría Presupuestal</th>\n",
       "      <th>PIA</th>\n",
       "      <th>PIM</th>\n",
       "      <th>Certificación</th>\n",
       "      <th>Compromiso Anual</th>\n",
       "      <th>Atención de Compromiso Mensual</th>\n",
       "      <th>Devengado</th>\n",
       "      <th>Girado</th>\n",
       "      <th>Avance %</th>\n",
       "    </tr>\n",
       "  </thead>\n",
       "  <tbody>\n",
       "    <tr>\n",
       "      <th>0</th>\n",
       "      <td>0001: PROGRAMA ARTICULADO NUTRICIONAL</td>\n",
       "      <td>41044909</td>\n",
       "      <td>96316564</td>\n",
       "      <td>89869230</td>\n",
       "      <td>89775394</td>\n",
       "      <td>89775394</td>\n",
       "      <td>89449235</td>\n",
       "      <td>89252944</td>\n",
       "      <td>92.9</td>\n",
       "    </tr>\n",
       "    <tr>\n",
       "      <th>1</th>\n",
       "      <td>0002: SALUD MATERNO NEONATAL</td>\n",
       "      <td>40874153</td>\n",
       "      <td>129843358</td>\n",
       "      <td>98844328</td>\n",
       "      <td>98603032</td>\n",
       "      <td>98603032</td>\n",
       "      <td>98349852</td>\n",
       "      <td>98264496</td>\n",
       "      <td>75.7</td>\n",
       "    </tr>\n",
       "    <tr>\n",
       "      <th>2</th>\n",
       "      <td>0016: TBC-VIH/SIDA</td>\n",
       "      <td>8746106</td>\n",
       "      <td>15459231</td>\n",
       "      <td>14399714</td>\n",
       "      <td>14399286</td>\n",
       "      <td>14399286</td>\n",
       "      <td>14220827</td>\n",
       "      <td>14150232</td>\n",
       "      <td>92.0</td>\n",
       "    </tr>\n",
       "    <tr>\n",
       "      <th>3</th>\n",
       "      <td>0017: ENFERMEDADES METAXENICAS Y ZOONOSIS</td>\n",
       "      <td>6306241</td>\n",
       "      <td>10774383</td>\n",
       "      <td>10622811</td>\n",
       "      <td>10622811</td>\n",
       "      <td>10622811</td>\n",
       "      <td>10606563</td>\n",
       "      <td>10605373</td>\n",
       "      <td>98.4</td>\n",
       "    </tr>\n",
       "    <tr>\n",
       "      <th>4</th>\n",
       "      <td>0018: ENFERMEDADES NO TRANSMISIBLES</td>\n",
       "      <td>8484164</td>\n",
       "      <td>16957499</td>\n",
       "      <td>16594047</td>\n",
       "      <td>16585849</td>\n",
       "      <td>16585849</td>\n",
       "      <td>16539224</td>\n",
       "      <td>16537581</td>\n",
       "      <td>97.5</td>\n",
       "    </tr>\n",
       "  </tbody>\n",
       "</table>\n",
       "</div>"
      ],
      "text/plain": [
       "                      Categoría Presupuestal       PIA        PIM  \\\n",
       "0      0001: PROGRAMA ARTICULADO NUTRICIONAL  41044909   96316564   \n",
       "1               0002: SALUD MATERNO NEONATAL  40874153  129843358   \n",
       "2                         0016: TBC-VIH/SIDA   8746106   15459231   \n",
       "3  0017: ENFERMEDADES METAXENICAS Y ZOONOSIS   6306241   10774383   \n",
       "4        0018: ENFERMEDADES NO TRANSMISIBLES   8484164   16957499   \n",
       "\n",
       "   Certificación  Compromiso Anual  Atención de Compromiso Mensual   \\\n",
       "0       89869230          89775394                         89775394   \n",
       "1       98844328          98603032                         98603032   \n",
       "2       14399714          14399286                         14399286   \n",
       "3       10622811          10622811                         10622811   \n",
       "4       16594047          16585849                         16585849   \n",
       "\n",
       "   Devengado    Girado   Avance %  \n",
       "0    89449235  89252944      92.9  \n",
       "1    98349852  98264496      75.7  \n",
       "2    14220827  14150232      92.0  \n",
       "3    10606563  10605373      98.4  \n",
       "4    16539224  16537581      97.5  "
      ]
     },
     "execution_count": 124,
     "metadata": {},
     "output_type": "execute_result"
    }
   ],
   "source": [
    "table_df.columns = headers\n",
    "table_df = table_df.drop( table_df.columns[ 0 ], axis = 1 )\n",
    "table_df.head( 5 )"
   ]
  },
  {
   "cell_type": "code",
   "execution_count": 125,
   "metadata": {},
   "outputs": [],
   "source": [
    "#The final excel include those columns\n",
    "path_siaf = r'C:\\Users\\Julian\\OneDrive - pucp.edu.pe\\Documentos\\GitHub\\summer_python_medialab\\Lecture_7'"
   ]
  },
  {
   "cell_type": "code",
   "execution_count": 126,
   "metadata": {},
   "outputs": [],
   "source": [
    "table_path = path_siaf+ '/regional_table.xlsx'\n",
    "table_df.to_excel( table_path, index = False )"
   ]
  }
 ],
 "metadata": {
  "hide_input": false,
  "kernelspec": {
   "display_name": "Python 3 (ipykernel)",
   "language": "python",
   "name": "python3"
  },
  "language_info": {
   "codemirror_mode": {
    "name": "ipython",
    "version": 3
   },
   "file_extension": ".py",
   "mimetype": "text/x-python",
   "name": "python",
   "nbconvert_exporter": "python",
   "pygments_lexer": "ipython3",
   "version": "3.9.21"
  },
  "toc": {
   "base_numbering": 1,
   "nav_menu": {},
   "number_sections": true,
   "sideBar": true,
   "skip_h1_title": false,
   "title_cell": "Table of Contents",
   "title_sidebar": "Contents",
   "toc_cell": false,
   "toc_position": {},
   "toc_section_display": true,
   "toc_window_display": false
  }
 },
 "nbformat": 4,
 "nbformat_minor": 4
}
