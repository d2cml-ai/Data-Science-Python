{
 "cells": [
  {
   "cell_type": "markdown",
   "id": "5333d414",
   "metadata": {},
   "source": [
    "## Assignment 5\n",
    "In this assignment, your task is to scrape data from the given link. You'll need to extract all votes for departments, provinces, and districts. Follow these steps:\n",
    "\n",
    "Click on 'Resumen General'.\n",
    "Select 'Presidencial', and then choose 'Peru'.\n",
    "Scrape the data and generate a final table with the following columns: department, province, district, political_organization, total_votes.\n",
    "Your code must execute successfully; any errors will result in a zero grade. Ensure you test your code thoroughly."
   ]
  },
  {
   "cell_type": "code",
   "execution_count": 16,
   "id": "3bebfe55",
   "metadata": {},
   "outputs": [
    {
     "data": {
      "text/html": [
       "\n",
       "<style>\n",
       "    div#notebook-container    { width: 95%; }\n",
       "    div#menubar-container     { width: 65%; }\n",
       "    div#maintoolbar-container { width: 99%; }a\n",
       "</style>\n"
      ],
      "text/plain": [
       "<IPython.core.display.HTML object>"
      ]
     },
     "metadata": {},
     "output_type": "display_data"
    }
   ],
   "source": [
    "from IPython.display import display, HTML\n",
    "\n",
    "display(HTML(data=\"\"\"\n",
    "<style>\n",
    "    div#notebook-container    { width: 95%; }\n",
    "    div#menubar-container     { width: 65%; }\n",
    "    div#maintoolbar-container { width: 99%; }a\n",
    "</style>\n",
    "\"\"\"))"
   ]
  },
  {
   "cell_type": "code",
   "execution_count": 17,
   "id": "84b98964",
   "metadata": {
    "scrolled": true
   },
   "outputs": [
    {
     "name": "stdout",
     "output_type": "stream",
     "text": [
      "Requirement already satisfied: selenium in c:\\anaconda\\lib\\site-packages (4.16.0)\n",
      "Requirement already satisfied: urllib3[socks]<3,>=1.26 in c:\\anaconda\\lib\\site-packages (from selenium) (1.26.16)\n",
      "Requirement already satisfied: trio~=0.17 in c:\\anaconda\\lib\\site-packages (from selenium) (0.24.0)\n",
      "Requirement already satisfied: trio-websocket~=0.9 in c:\\anaconda\\lib\\site-packages (from selenium) (0.11.1)\n",
      "Requirement already satisfied: certifi>=2021.10.8 in c:\\anaconda\\lib\\site-packages (from selenium) (2023.11.17)\n",
      "Requirement already satisfied: attrs>=20.1.0 in c:\\anaconda\\lib\\site-packages (from trio~=0.17->selenium) (22.1.0)\n",
      "Requirement already satisfied: sortedcontainers in c:\\anaconda\\lib\\site-packages (from trio~=0.17->selenium) (2.4.0)\n",
      "Requirement already satisfied: idna in c:\\anaconda\\lib\\site-packages (from trio~=0.17->selenium) (3.4)\n",
      "Requirement already satisfied: outcome in c:\\anaconda\\lib\\site-packages (from trio~=0.17->selenium) (1.3.0.post0)\n",
      "Requirement already satisfied: sniffio>=1.3.0 in c:\\anaconda\\lib\\site-packages (from trio~=0.17->selenium) (1.3.0)\n",
      "Requirement already satisfied: cffi>=1.14 in c:\\anaconda\\lib\\site-packages (from trio~=0.17->selenium) (1.15.1)\n",
      "Requirement already satisfied: wsproto>=0.14 in c:\\anaconda\\lib\\site-packages (from trio-websocket~=0.9->selenium) (1.2.0)\n",
      "Requirement already satisfied: PySocks!=1.5.7,<2.0,>=1.5.6 in c:\\anaconda\\lib\\site-packages (from urllib3[socks]<3,>=1.26->selenium) (1.7.1)\n",
      "Requirement already satisfied: pycparser in c:\\anaconda\\lib\\site-packages (from cffi>=1.14->trio~=0.17->selenium) (2.21)\n",
      "Requirement already satisfied: h11<1,>=0.9.0 in c:\\anaconda\\lib\\site-packages (from wsproto>=0.14->trio-websocket~=0.9->selenium) (0.14.0)\n",
      "Requirement already satisfied: webdriver-manager in c:\\anaconda\\lib\\site-packages (4.0.1)\n",
      "Requirement already satisfied: requests in c:\\anaconda\\lib\\site-packages (from webdriver-manager) (2.31.0)\n",
      "Requirement already satisfied: python-dotenv in c:\\anaconda\\lib\\site-packages (from webdriver-manager) (0.21.0)\n",
      "Requirement already satisfied: packaging in c:\\anaconda\\lib\\site-packages (from webdriver-manager) (23.1)\n",
      "Requirement already satisfied: charset-normalizer<4,>=2 in c:\\anaconda\\lib\\site-packages (from requests->webdriver-manager) (2.0.4)\n",
      "Requirement already satisfied: idna<4,>=2.5 in c:\\anaconda\\lib\\site-packages (from requests->webdriver-manager) (3.4)\n",
      "Requirement already satisfied: urllib3<3,>=1.21.1 in c:\\anaconda\\lib\\site-packages (from requests->webdriver-manager) (1.26.16)\n",
      "Requirement already satisfied: certifi>=2017.4.17 in c:\\anaconda\\lib\\site-packages (from requests->webdriver-manager) (2023.11.17)\n",
      "Requirement already satisfied: lxml in c:\\anaconda\\lib\\site-packages (4.9.3)\n"
     ]
    },
    {
     "name": "stderr",
     "output_type": "stream",
     "text": [
      "ERROR: Could not find a version that satisfies the requirement lxmunidecodel (from versions: none)\n",
      "ERROR: No matching distribution found for lxmunidecodel\n"
     ]
    }
   ],
   "source": [
    "!pip install selenium\n",
    "!pip install webdriver-manager\n",
    "!pip install lxml\n",
    "!pip install lxmunidecodel"
   ]
  },
  {
   "cell_type": "code",
   "execution_count": 18,
   "id": "b2b0e2d0",
   "metadata": {},
   "outputs": [],
   "source": [
    "# this library is to manipulate browser\n",
    "from selenium import webdriver\n",
    "\n",
    "# We call ChromeDriver\n",
    "from webdriver_manager.chrome import ChromeDriverManager\n",
    "import re\n",
    "import time\n",
    "from selenium import webdriver\n",
    "from selenium.webdriver.chrome.service import Service\n",
    "from selenium.webdriver.support.ui import Select\n",
    "from selenium.webdriver.common.by import By\n",
    "import pandas as pd\n",
    "\n",
    "from selenium import webdriver\n",
    "from webdriver_manager.chrome import ChromeDriverManager\n",
    "import unidecode"
   ]
  },
  {
   "cell_type": "code",
   "execution_count": 27,
   "id": "dfbfe4c8",
   "metadata": {},
   "outputs": [
    {
     "data": {
      "text/plain": [
       "'C:\\\\Users\\\\gisel\\\\Documents\\\\GitHub\\\\MediaLab_Summer_Python\\\\Lecture_7'"
      ]
     },
     "execution_count": 27,
     "metadata": {},
     "output_type": "execute_result"
    }
   ],
   "source": [
    "pwd"
   ]
  },
  {
   "cell_type": "code",
   "execution_count": null,
   "id": "304c62e7",
   "metadata": {},
   "outputs": [],
   "source": [
    "# Case 1 - Download the driver using ChromeDriverManager\n",
    "service = Service(executable_path=\"chromedriver-win64/chromedriver.exe\")\n",
    "\n",
    "\n",
    "driver = webdriver.Chrome(service=service)\n",
    "\n",
    "# #driver.maximize_window()\n",
    "url = 'https://resultadoshistorico.onpe.gob.pe/EG2021/'\n",
    "\n",
    "#We call the class to get de url\n",
    "driver.get(url)\n",
    "time.sleep(3)\n",
    "\n",
    "#To obtain the correct code version, we maximize the widow\n",
    "driver.maximize_window()"
   ]
  },
  {
   "cell_type": "code",
   "execution_count": 34,
   "id": "c216d718",
   "metadata": {},
   "outputs": [
    {
     "ename": "NoSuchWindowException",
     "evalue": "Message: no such window: target window already closed\nfrom unknown error: web view not found\n  (Session info: chrome=120.0.6099.224)\nStacktrace:\n\tGetHandleVerifier [0x00007FF697002142+3514994]\n\t(No symbol) [0x00007FF696C20CE2]\n\t(No symbol) [0x00007FF696AC76AA]\n\t(No symbol) [0x00007FF696AA0AFD]\n\t(No symbol) [0x00007FF696B3CB1B]\n\t(No symbol) [0x00007FF696B5218F]\n\t(No symbol) [0x00007FF696B35D93]\n\t(No symbol) [0x00007FF696B04BDC]\n\t(No symbol) [0x00007FF696B05C64]\n\tGetHandleVerifier [0x00007FF69702E16B+3695259]\n\tGetHandleVerifier [0x00007FF697086737+4057191]\n\tGetHandleVerifier [0x00007FF69707E4E3+4023827]\n\tGetHandleVerifier [0x00007FF696D504F9+689705]\n\t(No symbol) [0x00007FF696C2C048]\n\t(No symbol) [0x00007FF696C28044]\n\t(No symbol) [0x00007FF696C281C9]\n\t(No symbol) [0x00007FF696C188C4]\n\tBaseThreadInitThunk [0x00007FFD9191257D+29]\n\tRtlUserThreadStart [0x00007FFD93A4AA58+40]\n",
     "output_type": "error",
     "traceback": [
      "\u001b[1;31m---------------------------------------------------------------------------\u001b[0m",
      "\u001b[1;31mNoSuchWindowException\u001b[0m                     Traceback (most recent call last)",
      "Cell \u001b[1;32mIn[34], line 2\u001b[0m\n\u001b[0;32m      1\u001b[0m \u001b[38;5;66;03m#We call Resumen General button\u001b[39;00m\n\u001b[1;32m----> 2\u001b[0m resumen_general \u001b[38;5;241m=\u001b[39m driver\u001b[38;5;241m.\u001b[39mfind_element(By\u001b[38;5;241m.\u001b[39mXPATH, \u001b[38;5;124m'\u001b[39m\u001b[38;5;124m/html/body/onpe-root/onpe-home-onpe/div[1]/div/div/div/div[2]/div[2]/div/div/a/div[2]\u001b[39m\u001b[38;5;124m'\u001b[39m)\n\u001b[0;32m      4\u001b[0m resumen_general\u001b[38;5;241m.\u001b[39mclick()\n\u001b[0;32m      5\u001b[0m time\u001b[38;5;241m.\u001b[39msleep(\u001b[38;5;241m3\u001b[39m)\n",
      "File \u001b[1;32mC:\\Anaconda\\Lib\\site-packages\\selenium\\webdriver\\remote\\webdriver.py:742\u001b[0m, in \u001b[0;36mWebDriver.find_element\u001b[1;34m(self, by, value)\u001b[0m\n\u001b[0;32m    739\u001b[0m     by \u001b[38;5;241m=\u001b[39m By\u001b[38;5;241m.\u001b[39mCSS_SELECTOR\n\u001b[0;32m    740\u001b[0m     value \u001b[38;5;241m=\u001b[39m \u001b[38;5;124mf\u001b[39m\u001b[38;5;124m'\u001b[39m\u001b[38;5;124m[name=\u001b[39m\u001b[38;5;124m\"\u001b[39m\u001b[38;5;132;01m{\u001b[39;00mvalue\u001b[38;5;132;01m}\u001b[39;00m\u001b[38;5;124m\"\u001b[39m\u001b[38;5;124m]\u001b[39m\u001b[38;5;124m'\u001b[39m\n\u001b[1;32m--> 742\u001b[0m \u001b[38;5;28;01mreturn\u001b[39;00m \u001b[38;5;28mself\u001b[39m\u001b[38;5;241m.\u001b[39mexecute(Command\u001b[38;5;241m.\u001b[39mFIND_ELEMENT, {\u001b[38;5;124m\"\u001b[39m\u001b[38;5;124musing\u001b[39m\u001b[38;5;124m\"\u001b[39m: by, \u001b[38;5;124m\"\u001b[39m\u001b[38;5;124mvalue\u001b[39m\u001b[38;5;124m\"\u001b[39m: value})[\u001b[38;5;124m\"\u001b[39m\u001b[38;5;124mvalue\u001b[39m\u001b[38;5;124m\"\u001b[39m]\n",
      "File \u001b[1;32mC:\\Anaconda\\Lib\\site-packages\\selenium\\webdriver\\remote\\webdriver.py:348\u001b[0m, in \u001b[0;36mWebDriver.execute\u001b[1;34m(self, driver_command, params)\u001b[0m\n\u001b[0;32m    346\u001b[0m response \u001b[38;5;241m=\u001b[39m \u001b[38;5;28mself\u001b[39m\u001b[38;5;241m.\u001b[39mcommand_executor\u001b[38;5;241m.\u001b[39mexecute(driver_command, params)\n\u001b[0;32m    347\u001b[0m \u001b[38;5;28;01mif\u001b[39;00m response:\n\u001b[1;32m--> 348\u001b[0m     \u001b[38;5;28mself\u001b[39m\u001b[38;5;241m.\u001b[39merror_handler\u001b[38;5;241m.\u001b[39mcheck_response(response)\n\u001b[0;32m    349\u001b[0m     response[\u001b[38;5;124m\"\u001b[39m\u001b[38;5;124mvalue\u001b[39m\u001b[38;5;124m\"\u001b[39m] \u001b[38;5;241m=\u001b[39m \u001b[38;5;28mself\u001b[39m\u001b[38;5;241m.\u001b[39m_unwrap_value(response\u001b[38;5;241m.\u001b[39mget(\u001b[38;5;124m\"\u001b[39m\u001b[38;5;124mvalue\u001b[39m\u001b[38;5;124m\"\u001b[39m, \u001b[38;5;28;01mNone\u001b[39;00m))\n\u001b[0;32m    350\u001b[0m     \u001b[38;5;28;01mreturn\u001b[39;00m response\n",
      "File \u001b[1;32mC:\\Anaconda\\Lib\\site-packages\\selenium\\webdriver\\remote\\errorhandler.py:229\u001b[0m, in \u001b[0;36mErrorHandler.check_response\u001b[1;34m(self, response)\u001b[0m\n\u001b[0;32m    227\u001b[0m         alert_text \u001b[38;5;241m=\u001b[39m value[\u001b[38;5;124m\"\u001b[39m\u001b[38;5;124malert\u001b[39m\u001b[38;5;124m\"\u001b[39m]\u001b[38;5;241m.\u001b[39mget(\u001b[38;5;124m\"\u001b[39m\u001b[38;5;124mtext\u001b[39m\u001b[38;5;124m\"\u001b[39m)\n\u001b[0;32m    228\u001b[0m     \u001b[38;5;28;01mraise\u001b[39;00m exception_class(message, screen, stacktrace, alert_text)  \u001b[38;5;66;03m# type: ignore[call-arg]  # mypy is not smart enough here\u001b[39;00m\n\u001b[1;32m--> 229\u001b[0m \u001b[38;5;28;01mraise\u001b[39;00m exception_class(message, screen, stacktrace)\n",
      "\u001b[1;31mNoSuchWindowException\u001b[0m: Message: no such window: target window already closed\nfrom unknown error: web view not found\n  (Session info: chrome=120.0.6099.224)\nStacktrace:\n\tGetHandleVerifier [0x00007FF697002142+3514994]\n\t(No symbol) [0x00007FF696C20CE2]\n\t(No symbol) [0x00007FF696AC76AA]\n\t(No symbol) [0x00007FF696AA0AFD]\n\t(No symbol) [0x00007FF696B3CB1B]\n\t(No symbol) [0x00007FF696B5218F]\n\t(No symbol) [0x00007FF696B35D93]\n\t(No symbol) [0x00007FF696B04BDC]\n\t(No symbol) [0x00007FF696B05C64]\n\tGetHandleVerifier [0x00007FF69702E16B+3695259]\n\tGetHandleVerifier [0x00007FF697086737+4057191]\n\tGetHandleVerifier [0x00007FF69707E4E3+4023827]\n\tGetHandleVerifier [0x00007FF696D504F9+689705]\n\t(No symbol) [0x00007FF696C2C048]\n\t(No symbol) [0x00007FF696C28044]\n\t(No symbol) [0x00007FF696C281C9]\n\t(No symbol) [0x00007FF696C188C4]\n\tBaseThreadInitThunk [0x00007FFD9191257D+29]\n\tRtlUserThreadStart [0x00007FFD93A4AA58+40]\n"
     ]
    }
   ],
   "source": [
    "#We call Resumen General button\n",
    "resumen_general = driver.find_element(By.XPATH, '/html/body/onpe-root/onpe-home-onpe/div[1]/div/div/div/div[2]/div[2]/div/div/a/div[2]')\n",
    "\n",
    "resumen_general.click()\n",
    "time.sleep(3)"
   ]
  },
  {
   "cell_type": "code",
   "execution_count": null,
   "id": "1d346d4c",
   "metadata": {},
   "outputs": [],
   "source": [
    "#We call Resumen General button\n",
    "scope = driver.find_element(By.XPATH, '/html/body/onpe-root/onpe-layout-container/onpe-onpe-epres-re/div[1]/div[3]/div[1]/div[1]/div/div/div[2]/select')\n",
    "scope_options = scope.find_elements(By.TAG_NAME, 'option')\n",
    "for option in scope_options:\n",
    "        print(option.text)"
   ]
  },
  {
   "cell_type": "code",
   "execution_count": 131,
   "id": "a626583d",
   "metadata": {},
   "outputs": [
    {
     "ename": "NoSuchElementException",
     "evalue": "Message: no such element: Unable to locate element: {\"method\":\"xpath\",\"selector\":\"/html/body/onpe-root/onpe-layout-container/onpe-onpe-epres-re/div[1]/div[3]/div[1]/div[1]/div/div/div[2]/select\"}\n  (Session info: chrome=120.0.6099.217); For documentation on this error, please visit: https://www.selenium.dev/documentation/webdriver/troubleshooting/errors#no-such-element-exception\nStacktrace:\n\tGetHandleVerifier [0x00007FF7B9452142+3514994]\n\t(No symbol) [0x00007FF7B9070CE2]\n\t(No symbol) [0x00007FF7B8F176AA]\n\t(No symbol) [0x00007FF7B8F61860]\n\t(No symbol) [0x00007FF7B8F6197C]\n\t(No symbol) [0x00007FF7B8FA4EE7]\n\t(No symbol) [0x00007FF7B8F8602F]\n\t(No symbol) [0x00007FF7B8FA28F6]\n\t(No symbol) [0x00007FF7B8F85D93]\n\t(No symbol) [0x00007FF7B8F54BDC]\n\t(No symbol) [0x00007FF7B8F55C64]\n\tGetHandleVerifier [0x00007FF7B947E16B+3695259]\n\tGetHandleVerifier [0x00007FF7B94D6737+4057191]\n\tGetHandleVerifier [0x00007FF7B94CE4E3+4023827]\n\tGetHandleVerifier [0x00007FF7B91A04F9+689705]\n\t(No symbol) [0x00007FF7B907C048]\n\t(No symbol) [0x00007FF7B9078044]\n\t(No symbol) [0x00007FF7B90781C9]\n\t(No symbol) [0x00007FF7B90688C4]\n\tBaseThreadInitThunk [0x00007FFD1E60257D+29]\n\tRtlUserThreadStart [0x00007FFD1FACAA58+40]\n",
     "output_type": "error",
     "traceback": [
      "\u001b[1;31m---------------------------------------------------------------------------\u001b[0m",
      "\u001b[1;31mNoSuchElementException\u001b[0m                    Traceback (most recent call last)",
      "Cell \u001b[1;32mIn[131], line 1\u001b[0m\n\u001b[1;32m----> 1\u001b[0m scope \u001b[38;5;241m=\u001b[39m driver\u001b[38;5;241m.\u001b[39mfind_element(By\u001b[38;5;241m.\u001b[39mXPATH, \u001b[38;5;124m'\u001b[39m\u001b[38;5;124m/html/body/onpe-root/onpe-layout-container/onpe-onpe-epres-re/div[1]/div[3]/div[1]/div[1]/div/div/div[2]/select\u001b[39m\u001b[38;5;124m'\u001b[39m)\n\u001b[0;32m      2\u001b[0m scope_options \u001b[38;5;241m=\u001b[39m scope\u001b[38;5;241m.\u001b[39mfind_elements(By\u001b[38;5;241m.\u001b[39mTAG_NAME, \u001b[38;5;124m'\u001b[39m\u001b[38;5;124moption\u001b[39m\u001b[38;5;124m'\u001b[39m)\n\u001b[0;32m      3\u001b[0m \u001b[38;5;28;01mfor\u001b[39;00m option \u001b[38;5;129;01min\u001b[39;00m scope_options: \n",
      "File \u001b[1;32m~\\anaconda3\\Lib\\site-packages\\selenium\\webdriver\\remote\\webdriver.py:742\u001b[0m, in \u001b[0;36mWebDriver.find_element\u001b[1;34m(self, by, value)\u001b[0m\n\u001b[0;32m    739\u001b[0m     by \u001b[38;5;241m=\u001b[39m By\u001b[38;5;241m.\u001b[39mCSS_SELECTOR\n\u001b[0;32m    740\u001b[0m     value \u001b[38;5;241m=\u001b[39m \u001b[38;5;124mf\u001b[39m\u001b[38;5;124m'\u001b[39m\u001b[38;5;124m[name=\u001b[39m\u001b[38;5;124m\"\u001b[39m\u001b[38;5;132;01m{\u001b[39;00mvalue\u001b[38;5;132;01m}\u001b[39;00m\u001b[38;5;124m\"\u001b[39m\u001b[38;5;124m]\u001b[39m\u001b[38;5;124m'\u001b[39m\n\u001b[1;32m--> 742\u001b[0m \u001b[38;5;28;01mreturn\u001b[39;00m \u001b[38;5;28mself\u001b[39m\u001b[38;5;241m.\u001b[39mexecute(Command\u001b[38;5;241m.\u001b[39mFIND_ELEMENT, {\u001b[38;5;124m\"\u001b[39m\u001b[38;5;124musing\u001b[39m\u001b[38;5;124m\"\u001b[39m: by, \u001b[38;5;124m\"\u001b[39m\u001b[38;5;124mvalue\u001b[39m\u001b[38;5;124m\"\u001b[39m: value})[\u001b[38;5;124m\"\u001b[39m\u001b[38;5;124mvalue\u001b[39m\u001b[38;5;124m\"\u001b[39m]\n",
      "File \u001b[1;32m~\\anaconda3\\Lib\\site-packages\\selenium\\webdriver\\remote\\webdriver.py:348\u001b[0m, in \u001b[0;36mWebDriver.execute\u001b[1;34m(self, driver_command, params)\u001b[0m\n\u001b[0;32m    346\u001b[0m response \u001b[38;5;241m=\u001b[39m \u001b[38;5;28mself\u001b[39m\u001b[38;5;241m.\u001b[39mcommand_executor\u001b[38;5;241m.\u001b[39mexecute(driver_command, params)\n\u001b[0;32m    347\u001b[0m \u001b[38;5;28;01mif\u001b[39;00m response:\n\u001b[1;32m--> 348\u001b[0m     \u001b[38;5;28mself\u001b[39m\u001b[38;5;241m.\u001b[39merror_handler\u001b[38;5;241m.\u001b[39mcheck_response(response)\n\u001b[0;32m    349\u001b[0m     response[\u001b[38;5;124m\"\u001b[39m\u001b[38;5;124mvalue\u001b[39m\u001b[38;5;124m\"\u001b[39m] \u001b[38;5;241m=\u001b[39m \u001b[38;5;28mself\u001b[39m\u001b[38;5;241m.\u001b[39m_unwrap_value(response\u001b[38;5;241m.\u001b[39mget(\u001b[38;5;124m\"\u001b[39m\u001b[38;5;124mvalue\u001b[39m\u001b[38;5;124m\"\u001b[39m, \u001b[38;5;28;01mNone\u001b[39;00m))\n\u001b[0;32m    350\u001b[0m     \u001b[38;5;28;01mreturn\u001b[39;00m response\n",
      "File \u001b[1;32m~\\anaconda3\\Lib\\site-packages\\selenium\\webdriver\\remote\\errorhandler.py:229\u001b[0m, in \u001b[0;36mErrorHandler.check_response\u001b[1;34m(self, response)\u001b[0m\n\u001b[0;32m    227\u001b[0m         alert_text \u001b[38;5;241m=\u001b[39m value[\u001b[38;5;124m\"\u001b[39m\u001b[38;5;124malert\u001b[39m\u001b[38;5;124m\"\u001b[39m]\u001b[38;5;241m.\u001b[39mget(\u001b[38;5;124m\"\u001b[39m\u001b[38;5;124mtext\u001b[39m\u001b[38;5;124m\"\u001b[39m)\n\u001b[0;32m    228\u001b[0m     \u001b[38;5;28;01mraise\u001b[39;00m exception_class(message, screen, stacktrace, alert_text)  \u001b[38;5;66;03m# type: ignore[call-arg]  # mypy is not smart enough here\u001b[39;00m\n\u001b[1;32m--> 229\u001b[0m \u001b[38;5;28;01mraise\u001b[39;00m exception_class(message, screen, stacktrace)\n",
      "\u001b[1;31mNoSuchElementException\u001b[0m: Message: no such element: Unable to locate element: {\"method\":\"xpath\",\"selector\":\"/html/body/onpe-root/onpe-layout-container/onpe-onpe-epres-re/div[1]/div[3]/div[1]/div[1]/div/div/div[2]/select\"}\n  (Session info: chrome=120.0.6099.217); For documentation on this error, please visit: https://www.selenium.dev/documentation/webdriver/troubleshooting/errors#no-such-element-exception\nStacktrace:\n\tGetHandleVerifier [0x00007FF7B9452142+3514994]\n\t(No symbol) [0x00007FF7B9070CE2]\n\t(No symbol) [0x00007FF7B8F176AA]\n\t(No symbol) [0x00007FF7B8F61860]\n\t(No symbol) [0x00007FF7B8F6197C]\n\t(No symbol) [0x00007FF7B8FA4EE7]\n\t(No symbol) [0x00007FF7B8F8602F]\n\t(No symbol) [0x00007FF7B8FA28F6]\n\t(No symbol) [0x00007FF7B8F85D93]\n\t(No symbol) [0x00007FF7B8F54BDC]\n\t(No symbol) [0x00007FF7B8F55C64]\n\tGetHandleVerifier [0x00007FF7B947E16B+3695259]\n\tGetHandleVerifier [0x00007FF7B94D6737+4057191]\n\tGetHandleVerifier [0x00007FF7B94CE4E3+4023827]\n\tGetHandleVerifier [0x00007FF7B91A04F9+689705]\n\t(No symbol) [0x00007FF7B907C048]\n\t(No symbol) [0x00007FF7B9078044]\n\t(No symbol) [0x00007FF7B90781C9]\n\t(No symbol) [0x00007FF7B90688C4]\n\tBaseThreadInitThunk [0x00007FFD1E60257D+29]\n\tRtlUserThreadStart [0x00007FFD1FACAA58+40]\n"
     ]
    }
   ],
   "source": [
    "scope = driver.find_element(By.XPATH, '/html/body/onpe-root/onpe-layout-container/onpe-onpe-epres-re/div[1]/div[3]/div[1]/div[1]/div/div/div[2]/select')\n",
    "scope_options = scope.find_elements(By.TAG_NAME, 'option')\n",
    "for option in scope_options: \n",
    "    print(option.text)\n"
   ]
  },
  {
   "cell_type": "code",
   "execution_count": 37,
   "id": "f59fcc73",
   "metadata": {},
   "outputs": [],
   "source": [
    "dict_scope_options = { option.text : option for option in scope_options }"
   ]
  },
  {
   "cell_type": "code",
   "execution_count": 38,
   "id": "73f45696",
   "metadata": {},
   "outputs": [
    {
     "data": {
      "text/plain": [
       "dict_keys(['--TODOS--', 'AMAZONAS', 'ANCASH', 'APURIMAC', 'AREQUIPA', 'AYACUCHO', 'CAJAMARCA', 'CALLAO', 'CUSCO', 'HUANCAVELICA', 'HUANUCO', 'ICA', 'JUNIN', 'LA LIBERTAD', 'LAMBAYEQUE', 'LIMA', 'LORETO', 'MADRE DE DIOS', 'MOQUEGUA', 'PASCO', 'PIURA', 'PUNO', 'SAN MARTIN', 'TACNA', 'TUMBES', 'UCAYALI'])"
      ]
     },
     "execution_count": 38,
     "metadata": {},
     "output_type": "execute_result"
    }
   ],
   "source": [
    "dict_scope_options.keys()\n"
   ]
  },
  {
   "cell_type": "code",
   "execution_count": 40,
   "id": "27c403cf",
   "metadata": {},
   "outputs": [],
   "source": [
    "dict_scope_options['--TODOS--'].click() "
   ]
  },
  {
   "cell_type": "code",
   "execution_count": 50,
   "id": "b50eca19",
   "metadata": {},
   "outputs": [
    {
     "data": {
      "text/plain": [
       "<selenium.webdriver.remote.webelement.WebElement (session=\"03ab903c911e8adf3a8f29ccf2b198f1\", element=\"9A83568E1BDCAE94525941855976D3D5_element_316\")>"
      ]
     },
     "execution_count": 50,
     "metadata": {},
     "output_type": "execute_result"
    }
   ],
   "source": [
    "all_tables = {}\n",
    "provinces = driver.find_element(By.XPATH, '/html/body/onpe-root/onpe-layout-container/onpe-onpe-epres-re/div[1]/div[3]/div[1]/div[1]/div/div/div[3]/select') \n",
    "provinces"
   ]
  },
  {
   "cell_type": "code",
   "execution_count": 55,
   "id": "487026d2",
   "metadata": {},
   "outputs": [],
   "source": [
    "from selenium.webdriver.support.ui import Select\n"
   ]
  },
  {
   "cell_type": "code",
   "execution_count": 61,
   "id": "38cae099",
   "metadata": {},
   "outputs": [
    {
     "data": {
      "text/plain": [
       "dict_keys(['--TODOS--', 'AMAZONAS', 'ANCASH', 'APURIMAC', 'AREQUIPA', 'AYACUCHO', 'CAJAMARCA', 'CALLAO', 'CUSCO', 'HUANCAVELICA', 'HUANUCO', 'ICA', 'JUNIN', 'LA LIBERTAD', 'LAMBAYEQUE', 'LIMA', 'LORETO', 'MADRE DE DIOS', 'MOQUEGUA', 'PASCO', 'PIURA', 'PUNO', 'SAN MARTIN', 'TACNA', 'TUMBES', 'UCAYALI'])"
      ]
     },
     "execution_count": 61,
     "metadata": {},
     "output_type": "execute_result"
    }
   ],
   "source": [
    "dpt_options_names = { option.text : option for option in scope_options }\n",
    "dict_scope_options.keys()\n"
   ]
  },
  {
   "cell_type": "code",
   "execution_count": 90,
   "id": "2718d44e",
   "metadata": {},
   "outputs": [],
   "source": [
    "prov = Select( driver.find_element(By.XPATH, '/html/body/onpe-root/onpe-layout-container/onpe-onpe-epres-re/div[1]/div[3]/div[1]/div[1]/div/div/div[3]/select') )\n",
    "num_prov_options = len( prov.options )\n"
   ]
  },
  {
   "cell_type": "code",
   "execution_count": 95,
   "id": "554dea08",
   "metadata": {},
   "outputs": [
    {
     "data": {
      "text/plain": [
       "1"
      ]
     },
     "execution_count": 95,
     "metadata": {},
     "output_type": "execute_result"
    }
   ],
   "source": [
    "num_prov_options"
   ]
  },
  {
   "cell_type": "code",
   "execution_count": 96,
   "id": "61a25638",
   "metadata": {},
   "outputs": [],
   "source": [
    "for prov_idx in range( num_prov_options ):\n",
    "    prov = Select( driver.find_element(By.XPATH, '/html/body/onpe-root/onpe-layout-container/onpe-onpe-epres-re/div[1]/div[3]/div[1]/div[1]/div/div/div[3]/select' ) )\n",
    "    province = prov.options[ prov_idx ]\n",
    "    prov_name = province.text\n",
    "    if prov_name != \"--TODOS--\" :\n",
    "        province.click()\n",
    "        dist = Select( driver.find_element(By.XPATH, '/html/body/onpe-root/onpe-layout-container/onpe-onpe-epres-re/div[1]/div[3]/div[1]/div[1]/div/div/div[4]/select' ) )\n",
    "        num_dist_options = len( dist.options )\n",
    "        for dist_idx in range( num_dist_options ):\n",
    "            dist = Select( driver.find_element(By.XPATH, '/html/body/onpe-root/onpe-layout-container/onpe-onpe-epres-re/div[1]/div[3]/div[1]/div[1]/div/div/div[4]/select' ) )\n",
    "            district = dist.options[ dist_idx ] \n",
    "            dist_name = district.text\n",
    "            if dist_name != \"-- SELECCIONE --\" :\n",
    "                district.click()\n",
    "                ubigeo = driver.current_url.split(\"/\")[ -1 ]\n",
    "                table_path = driver.find_element(By.XPATH, '/html/body/onpe-root/onpe-layout-container/onpe-onpe-epres-re/div[1]/div[4]/div[1]/div[3]/div' )\n",
    "                table_html = table_path.get_attribute( 'innerHTML' )\n",
    "                table = pd.read_html( table_html )\n",
    "                row_new_columns = table[ 0 ].iloc[ 0 , 2: ]\n",
    "                clean_columns = row_new_columns \\\n",
    "                                              .str.replace( \" \", \"_\") \\\n",
    "                                              .str.lower().str.replace( \"%\", \"share_\") \\\n",
    "                                              .apply( lambda x : unidecode.unidecode( x ) ) \\\n",
    "                                              .tolist()\n",
    "                table_clean = table[0].iloc[ 1:, 2: ].copy()\n",
    "                table_clean.columns = clean_columns\n",
    "                table_clean[ 'department' ] = dpt_name\n",
    "                table_clean[ 'province' ]   = prov_name\n",
    "                table_clean[ 'district' ]   = dist_name\n",
    "                table_clean[ 'ubigeo' ]     = ubigeo\n",
    "                all_tables[ ubigeo ] = table_clean"
   ]
  },
  {
   "cell_type": "code",
   "execution_count": 83,
   "id": "0364f6d0",
   "metadata": {},
   "outputs": [],
   "source": [
    "import pandas as pd\n"
   ]
  },
  {
   "cell_type": "code",
   "execution_count": 99,
   "id": "ebdf9b6a",
   "metadata": {},
   "outputs": [
    {
     "name": "stdout",
     "output_type": "stream",
     "text": [
      "0 --TODOS--\n"
     ]
    }
   ],
   "source": [
    "for prov_idx in range( num_prov_options ):\n",
    "            \n",
    "    # Get again all districts since HTML is refreshing\n",
    "    # all elements\n",
    "    total_votes = driver.find_element(By.XPATH, 'html/body/onpe-root/onpe-layout-container/onpe-onpe-epres-re/div[1]/div[3]/div[1]/div[1]/div/div/div[3]/select' ) )\n",
    "    province = prov.options[ prov_idx ]\n",
    "\n",
    "    # Get province name\n",
    "    prov_name = province.text\n",
    "    \n",
    "    print( prov_idx ,  prov_name )"
   ]
  },
  {
   "cell_type": "code",
   "execution_count": 103,
   "id": "5bbb6837",
   "metadata": {},
   "outputs": [],
   "source": [
    "votes_all = driver.find_element(By.XPATH, '/html/body/onpe-root/onpe-layout-container/onpe-onpe-epres-re/div[1]/div[4]/div[1]/div[4]/table')\n",
    "votes_all.click()"
   ]
  },
  {
   "cell_type": "code",
   "execution_count": 105,
   "id": "31b7b5d7",
   "metadata": {},
   "outputs": [],
   "source": [
    "raw_table = driver.find_element(By.ID,  \"table-scroll\" )\n",
    "\n",
    "raw_table_html = raw_table.get_attribute( 'innerHTML' )"
   ]
  },
  {
   "cell_type": "code",
   "execution_count": 106,
   "id": "ab3e6aac",
   "metadata": {},
   "outputs": [
    {
     "data": {
      "text/plain": [
       "'<div _ngcontent-sbs-c101=\"\" class=\"table-wrap\"><table _ngcontent-sbs-c101=\"\" width=\"100%\" id=\"table1\" class=\"main-table table table-striped tabla_resultado\"><tr _ngcontent-sbs-c101=\"\"><th _ngcontent-sbs-c101=\"\" align=\"center\" colspan=\"6\" class=\"fixed-side\">TOTAL DE VOTOS</th></tr><tr _ngcontent-sbs-c101=\"\"><td _ngcontent-sbs-c101=\"\" align=\"center\" colspan=\"3\" class=\"titulo_td fixed-side\">ORGANIZACIONES POLÍTICAS</td><td _ngcontent-sbs-c101=\"\" align=\"center\" class=\"titulo_td fixed-side\">TOTAL</td><td _ngcontent-sbs-c101=\"\" align=\"center\" class=\"titulo_td fixed-side\">%VÁLIDOS</td><td _ngcontent-sbs-c101=\"\" align=\"center\" class=\"titulo_td fixed-side\">%EMITIDOS</td></tr><tr _ngcontent-sbs-c101=\"\"><td _ngcontent-sbs-c101=\"\" width=\"2.5%\" class=\"fixed-side\"><img _ngcontent-sbs-c101=\"\" alt=\"\" class=\"foto_agrupacion\" src=\"./assets/iconos/iconos_reales/00000012.jpg\"></td><!----><td _ngcontent-sbs-c101=\"\" width=\"2.5%\" class=\"fixed-side\"><img _ngcontent-sbs-c101=\"\" alt=\"\" class=\"foto_agrupacion\" src=\"./assets/imagenes/candidatos/00000012.jpg\"></td><!----><!----><!----><td _ngcontent-sbs-c101=\"\" width=\"40%\" class=\"fixed-side\" style=\"min-width: 440px;\"> PARTIDO NACIONALISTA PERUANO</td><!----><td _ngcontent-sbs-c101=\"\" width=\"auto\" align=\"center\" class=\"fixed-side\">356</td><td _ngcontent-sbs-c101=\"\" width=\"auto\" align=\"center\" class=\"fixed-side\"> 9.327% <!----><!----></td><td _ngcontent-sbs-c101=\"\" width=\"auto\" align=\"center\" class=\"fixed-side\">6.389%</td></tr><tr _ngcontent-sbs-c101=\"\"><td _ngcontent-sbs-c101=\"\" width=\"2.5%\" class=\"fixed-side\"><img _ngcontent-sbs-c101=\"\" alt=\"\" class=\"foto_agrupacion\" src=\"./assets/iconos/iconos_reales/00000005.jpg\"></td><!----><td _ngcontent-sbs-c101=\"\" width=\"2.5%\" class=\"fixed-side\"><img _ngcontent-sbs-c101=\"\" alt=\"\" class=\"foto_agrupacion\" src=\"./assets/imagenes/candidatos/00000005.jpg\"></td><!----><!----><!----><td _ngcontent-sbs-c101=\"\" width=\"40%\" class=\"fixed-side\" style=\"min-width: 440px;\"> EL FRENTE AMPLIO POR JUSTICIA, VIDA Y LIBERTAD</td><!----><td _ngcontent-sbs-c101=\"\" width=\"auto\" align=\"center\" class=\"fixed-side\">13</td><td _ngcontent-sbs-c101=\"\" width=\"auto\" align=\"center\" class=\"fixed-side\"> 0.341% <!----><!----></td><td _ngcontent-sbs-c101=\"\" width=\"auto\" align=\"center\" class=\"fixed-side\">0.233%</td></tr><tr _ngcontent-sbs-c101=\"\"><td _ngcontent-sbs-c101=\"\" width=\"2.5%\" class=\"fixed-side\"><img _ngcontent-sbs-c101=\"\" alt=\"\" class=\"foto_agrupacion\" src=\"./assets/iconos/iconos_reales/00000011.jpg\"></td><!----><td _ngcontent-sbs-c101=\"\" width=\"2.5%\" class=\"fixed-side\"><img _ngcontent-sbs-c101=\"\" alt=\"\" class=\"foto_agrupacion\" src=\"./assets/imagenes/candidatos/00000011.jpg\"></td><!----><!----><!----><td _ngcontent-sbs-c101=\"\" width=\"40%\" class=\"fixed-side\" style=\"min-width: 440px;\"> PARTIDO MORADO</td><!----><td _ngcontent-sbs-c101=\"\" width=\"auto\" align=\"center\" class=\"fixed-side\">41</td><td _ngcontent-sbs-c101=\"\" width=\"auto\" align=\"center\" class=\"fixed-side\"> 1.074% <!----><!----></td><td _ngcontent-sbs-c101=\"\" width=\"auto\" align=\"center\" class=\"fixed-side\">0.736%</td></tr><tr _ngcontent-sbs-c101=\"\"><td _ngcontent-sbs-c101=\"\" width=\"2.5%\" class=\"fixed-side\"><img _ngcontent-sbs-c101=\"\" alt=\"\" class=\"foto_agrupacion\" src=\"./assets/iconos/iconos_reales/00000017.jpg\"></td><!----><td _ngcontent-sbs-c101=\"\" width=\"2.5%\" class=\"fixed-side\"><img _ngcontent-sbs-c101=\"\" alt=\"\" class=\"foto_agrupacion\" src=\"./assets/imagenes/candidatos/00000017.jpg\"></td><!----><!----><!----><td _ngcontent-sbs-c101=\"\" width=\"40%\" class=\"fixed-side\" style=\"min-width: 440px;\"> PERU PATRIA SEGURA</td><!----><td _ngcontent-sbs-c101=\"\" width=\"auto\" align=\"center\" class=\"fixed-side\">4</td><td _ngcontent-sbs-c101=\"\" width=\"auto\" align=\"center\" class=\"fixed-side\"> 0.105% <!----><!----></td><td _ngcontent-sbs-c101=\"\" width=\"auto\" align=\"center\" class=\"fixed-side\">0.072%</td></tr><tr _ngcontent-sbs-c101=\"\"><td _ngcontent-sbs-c101=\"\" width=\"2.5%\" class=\"fixed-side\"><img _ngcontent-sbs-c101=\"\" alt=\"\" class=\"foto_agrupacion\" src=\"./assets/iconos/iconos_reales/00000022.jpg\"></td><!----><td _ngcontent-sbs-c101=\"\" width=\"2.5%\" class=\"fixed-side\"><img _ngcontent-sbs-c101=\"\" alt=\"\" class=\"foto_agrupacion\" src=\"./assets/imagenes/candidatos/00000022.jpg\"></td><!----><!----><!----><td _ngcontent-sbs-c101=\"\" width=\"40%\" class=\"fixed-side\" style=\"min-width: 440px;\"> VICTORIA NACIONAL</td><!----><td _ngcontent-sbs-c101=\"\" width=\"auto\" align=\"center\" class=\"fixed-side\">151</td><td _ngcontent-sbs-c101=\"\" width=\"auto\" align=\"center\" class=\"fixed-side\"> 3.956% <!----><!----></td><td _ngcontent-sbs-c101=\"\" width=\"auto\" align=\"center\" class=\"fixed-side\">2.710%</td></tr><tr _ngcontent-sbs-c101=\"\"><td _ngcontent-sbs-c101=\"\" width=\"2.5%\" class=\"fixed-side\"><img _ngcontent-sbs-c101=\"\" alt=\"\" class=\"foto_agrupacion\" src=\"./assets/iconos/iconos_reales/00000001.jpg\"></td><!----><td _ngcontent-sbs-c101=\"\" width=\"2.5%\" class=\"fixed-side\"><img _ngcontent-sbs-c101=\"\" alt=\"\" class=\"foto_agrupacion\" src=\"./assets/imagenes/candidatos/00000001.jpg\"></td><!----><!----><!----><td _ngcontent-sbs-c101=\"\" width=\"40%\" class=\"fixed-side\" style=\"min-width: 440px;\"> ACCION POPULAR</td><!----><td _ngcontent-sbs-c101=\"\" width=\"auto\" align=\"center\" class=\"fixed-side\">267</td><td _ngcontent-sbs-c101=\"\" width=\"auto\" align=\"center\" class=\"fixed-side\"> 6.995% <!----><!----></td><td _ngcontent-sbs-c101=\"\" width=\"auto\" align=\"center\" class=\"fixed-side\">4.792%</td></tr><tr _ngcontent-sbs-c101=\"\"><td _ngcontent-sbs-c101=\"\" width=\"2.5%\" class=\"fixed-side\"><img _ngcontent-sbs-c101=\"\" alt=\"\" class=\"foto_agrupacion\" src=\"./assets/iconos/iconos_reales/00000003.jpg\"></td><!----><td _ngcontent-sbs-c101=\"\" width=\"2.5%\" class=\"fixed-side\"><img _ngcontent-sbs-c101=\"\" alt=\"\" class=\"foto_agrupacion\" src=\"./assets/imagenes/candidatos/00000003.jpg\"></td><!----><!----><!----><td _ngcontent-sbs-c101=\"\" width=\"40%\" class=\"fixed-side\" style=\"min-width: 440px;\"> AVANZA PAIS - PARTIDO DE INTEGRACION SOCIAL</td><!----><td _ngcontent-sbs-c101=\"\" width=\"auto\" align=\"center\" class=\"fixed-side\">69</td><td _ngcontent-sbs-c101=\"\" width=\"auto\" align=\"center\" class=\"fixed-side\"> 1.808% <!----><!----></td><td _ngcontent-sbs-c101=\"\" width=\"auto\" align=\"center\" class=\"fixed-side\">1.238%</td></tr><tr _ngcontent-sbs-c101=\"\"><td _ngcontent-sbs-c101=\"\" width=\"2.5%\" class=\"fixed-side\"><img _ngcontent-sbs-c101=\"\" alt=\"\" class=\"foto_agrupacion\" src=\"./assets/iconos/iconos_reales/00000018.jpg\"></td><!----><td _ngcontent-sbs-c101=\"\" width=\"2.5%\" class=\"fixed-side\"><img _ngcontent-sbs-c101=\"\" alt=\"\" class=\"foto_agrupacion\" src=\"./assets/imagenes/candidatos/00000018.jpg\"></td><!----><!----><!----><td _ngcontent-sbs-c101=\"\" width=\"40%\" class=\"fixed-side\" style=\"min-width: 440px;\"> PODEMOS PERU</td><!----><td _ngcontent-sbs-c101=\"\" width=\"auto\" align=\"center\" class=\"fixed-side\">265</td><td _ngcontent-sbs-c101=\"\" width=\"auto\" align=\"center\" class=\"fixed-side\"> 6.943% <!----><!----></td><td _ngcontent-sbs-c101=\"\" width=\"auto\" align=\"center\" class=\"fixed-side\">4.756%</td></tr><tr _ngcontent-sbs-c101=\"\"><td _ngcontent-sbs-c101=\"\" width=\"2.5%\" class=\"fixed-side\"><img _ngcontent-sbs-c101=\"\" alt=\"\" class=\"foto_agrupacion\" src=\"./assets/iconos/iconos_reales/00000008.jpg\"></td><!----><td _ngcontent-sbs-c101=\"\" width=\"2.5%\" class=\"fixed-side\"><img _ngcontent-sbs-c101=\"\" alt=\"\" class=\"foto_agrupacion\" src=\"./assets/imagenes/candidatos/00000008.jpg\"></td><!----><!----><!----><td _ngcontent-sbs-c101=\"\" width=\"40%\" class=\"fixed-side\" style=\"min-width: 440px;\"> JUNTOS POR EL PERU</td><!----><td _ngcontent-sbs-c101=\"\" width=\"auto\" align=\"center\" class=\"fixed-side\">105</td><td _ngcontent-sbs-c101=\"\" width=\"auto\" align=\"center\" class=\"fixed-side\"> 2.751% <!----><!----></td><td _ngcontent-sbs-c101=\"\" width=\"auto\" align=\"center\" class=\"fixed-side\">1.884%</td></tr><tr _ngcontent-sbs-c101=\"\"><td _ngcontent-sbs-c101=\"\" width=\"2.5%\" class=\"fixed-side\"><img _ngcontent-sbs-c101=\"\" alt=\"\" class=\"foto_agrupacion\" src=\"./assets/iconos/iconos_reales/00000015.jpg\"></td><!----><td _ngcontent-sbs-c101=\"\" width=\"2.5%\" class=\"fixed-side\"><img _ngcontent-sbs-c101=\"\" alt=\"\" class=\"foto_agrupacion\" src=\"./assets/imagenes/candidatos/00000015.jpg\"></td><!----><!----><!----><td _ngcontent-sbs-c101=\"\" width=\"40%\" class=\"fixed-side\" style=\"min-width: 440px;\"> PARTIDO POPULAR CRISTIANO - PPC</td><!----><td _ngcontent-sbs-c101=\"\" width=\"auto\" align=\"center\" class=\"fixed-side\">8</td><td _ngcontent-sbs-c101=\"\" width=\"auto\" align=\"center\" class=\"fixed-side\"> 0.210% <!----><!----></td><td _ngcontent-sbs-c101=\"\" width=\"auto\" align=\"center\" class=\"fixed-side\">0.144%</td></tr><tr _ngcontent-sbs-c101=\"\"><td _ngcontent-sbs-c101=\"\" width=\"2.5%\" class=\"fixed-side\"><img _ngcontent-sbs-c101=\"\" alt=\"\" class=\"foto_agrupacion\" src=\"./assets/iconos/iconos_reales/00000007.jpg\"></td><!----><td _ngcontent-sbs-c101=\"\" width=\"2.5%\" class=\"fixed-side\"><img _ngcontent-sbs-c101=\"\" alt=\"\" class=\"foto_agrupacion\" src=\"./assets/imagenes/candidatos/00000007.jpg\"></td><!----><!----><!----><td _ngcontent-sbs-c101=\"\" width=\"40%\" class=\"fixed-side\" style=\"min-width: 440px;\"> FUERZA POPULAR</td><!----><td _ngcontent-sbs-c101=\"\" width=\"auto\" align=\"center\" class=\"fixed-side\">673</td><td _ngcontent-sbs-c101=\"\" width=\"auto\" align=\"center\" class=\"fixed-side\"> 17.632% <!----><!----></td><td _ngcontent-sbs-c101=\"\" width=\"auto\" align=\"center\" class=\"fixed-side\">12.078%</td></tr><tr _ngcontent-sbs-c101=\"\"><td _ngcontent-sbs-c101=\"\" width=\"2.5%\" class=\"fixed-side\"><img _ngcontent-sbs-c101=\"\" alt=\"\" class=\"foto_agrupacion\" src=\"./assets/iconos/iconos_reales/00000021.jpg\"></td><!----><td _ngcontent-sbs-c101=\"\" width=\"2.5%\" class=\"fixed-side\"><img _ngcontent-sbs-c101=\"\" alt=\"\" class=\"foto_agrupacion\" src=\"./assets/imagenes/candidatos/00000021.jpg\"></td><!----><!----><!----><td _ngcontent-sbs-c101=\"\" width=\"40%\" class=\"fixed-side\" style=\"min-width: 440px;\"> UNION POR EL PERU</td><!----><td _ngcontent-sbs-c101=\"\" width=\"auto\" align=\"center\" class=\"fixed-side\">45</td><td _ngcontent-sbs-c101=\"\" width=\"auto\" align=\"center\" class=\"fixed-side\"> 1.179% <!----><!----></td><td _ngcontent-sbs-c101=\"\" width=\"auto\" align=\"center\" class=\"fixed-side\">0.808%</td></tr><tr _ngcontent-sbs-c101=\"\"><td _ngcontent-sbs-c101=\"\" width=\"2.5%\" class=\"fixed-side\"><img _ngcontent-sbs-c101=\"\" alt=\"\" class=\"foto_agrupacion\" src=\"./assets/iconos/iconos_reales/00000020.jpg\"></td><!----><td _ngcontent-sbs-c101=\"\" width=\"2.5%\" class=\"fixed-side\"><img _ngcontent-sbs-c101=\"\" alt=\"\" class=\"foto_agrupacion\" src=\"./assets/imagenes/candidatos/00000020.jpg\"></td><!----><!----><!----><td _ngcontent-sbs-c101=\"\" width=\"40%\" class=\"fixed-side\" style=\"min-width: 440px;\"> RENOVACION POPULAR</td><!----><td _ngcontent-sbs-c101=\"\" width=\"auto\" align=\"center\" class=\"fixed-side\">252</td><td _ngcontent-sbs-c101=\"\" width=\"auto\" align=\"center\" class=\"fixed-side\"> 6.602% <!----><!----></td><td _ngcontent-sbs-c101=\"\" width=\"auto\" align=\"center\" class=\"fixed-side\">4.523%</td></tr><tr _ngcontent-sbs-c101=\"\"><td _ngcontent-sbs-c101=\"\" width=\"2.5%\" class=\"fixed-side\"><img _ngcontent-sbs-c101=\"\" alt=\"\" class=\"foto_agrupacion\" src=\"./assets/iconos/iconos_reales/00000019.jpg\"></td><!----><td _ngcontent-sbs-c101=\"\" width=\"2.5%\" class=\"fixed-side\"><img _ngcontent-sbs-c101=\"\" alt=\"\" class=\"foto_agrupacion\" src=\"./assets/imagenes/candidatos/00000019.jpg\"></td><!----><!----><!----><td _ngcontent-sbs-c101=\"\" width=\"40%\" class=\"fixed-side\" style=\"min-width: 440px;\"> RENACIMIENTO UNIDO NACIONAL</td><!----><td _ngcontent-sbs-c101=\"\" width=\"auto\" align=\"center\" class=\"fixed-side\">42</td><td _ngcontent-sbs-c101=\"\" width=\"auto\" align=\"center\" class=\"fixed-side\"> 1.100% <!----><!----></td><td _ngcontent-sbs-c101=\"\" width=\"auto\" align=\"center\" class=\"fixed-side\">0.754%</td></tr><tr _ngcontent-sbs-c101=\"\"><td _ngcontent-sbs-c101=\"\" width=\"2.5%\" class=\"fixed-side\"><img _ngcontent-sbs-c101=\"\" alt=\"\" class=\"foto_agrupacion\" src=\"./assets/iconos/iconos_reales/00000010.jpg\"></td><!----><td _ngcontent-sbs-c101=\"\" width=\"2.5%\" class=\"fixed-side\"><img _ngcontent-sbs-c101=\"\" alt=\"\" class=\"foto_agrupacion\" src=\"./assets/imagenes/candidatos/00000010.jpg\"></td><!----><!----><!----><td _ngcontent-sbs-c101=\"\" width=\"40%\" class=\"fixed-side\" style=\"min-width: 440px;\"> PARTIDO DEMOCRATICO SOMOS PERU</td><!----><td _ngcontent-sbs-c101=\"\" width=\"auto\" align=\"center\" class=\"fixed-side\">27</td><td _ngcontent-sbs-c101=\"\" width=\"auto\" align=\"center\" class=\"fixed-side\"> 0.707% <!----><!----></td><td _ngcontent-sbs-c101=\"\" width=\"auto\" align=\"center\" class=\"fixed-side\">0.485%</td></tr><tr _ngcontent-sbs-c101=\"\"><td _ngcontent-sbs-c101=\"\" width=\"2.5%\" class=\"fixed-side\"><img _ngcontent-sbs-c101=\"\" alt=\"\" class=\"foto_agrupacion\" src=\"./assets/iconos/iconos_reales/00000014.jpg\"></td><!----><td _ngcontent-sbs-c101=\"\" width=\"2.5%\" class=\"fixed-side\"><img _ngcontent-sbs-c101=\"\" alt=\"\" class=\"foto_agrupacion\" src=\"./assets/imagenes/candidatos/00000014.jpg\"></td><!----><!----><!----><td _ngcontent-sbs-c101=\"\" width=\"40%\" class=\"fixed-side\" style=\"min-width: 440px;\"> PARTIDO POLITICO NACIONAL PERU LIBRE</td><!----><td _ngcontent-sbs-c101=\"\" width=\"auto\" align=\"center\" class=\"fixed-side\">1,250</td><td _ngcontent-sbs-c101=\"\" width=\"auto\" align=\"center\" class=\"fixed-side\"> 32.748% <!----><!----></td><td _ngcontent-sbs-c101=\"\" width=\"auto\" align=\"center\" class=\"fixed-side\">22.434%</td></tr><tr _ngcontent-sbs-c101=\"\"><td _ngcontent-sbs-c101=\"\" width=\"2.5%\" class=\"fixed-side\"><img _ngcontent-sbs-c101=\"\" alt=\"\" class=\"foto_agrupacion\" src=\"./assets/iconos/iconos_reales/00000004.jpg\"></td><!----><td _ngcontent-sbs-c101=\"\" width=\"2.5%\" class=\"fixed-side\"><img _ngcontent-sbs-c101=\"\" alt=\"\" class=\"foto_agrupacion\" src=\"./assets/imagenes/candidatos/00000004.jpg\"></td><!----><!----><!----><td _ngcontent-sbs-c101=\"\" width=\"40%\" class=\"fixed-side\" style=\"min-width: 440px;\"> DEMOCRACIA DIRECTA</td><!----><td _ngcontent-sbs-c101=\"\" width=\"auto\" align=\"center\" class=\"fixed-side\">8</td><td _ngcontent-sbs-c101=\"\" width=\"auto\" align=\"center\" class=\"fixed-side\"> 0.210% <!----><!----></td><td _ngcontent-sbs-c101=\"\" width=\"auto\" align=\"center\" class=\"fixed-side\">0.144%</td></tr><tr _ngcontent-sbs-c101=\"\"><td _ngcontent-sbs-c101=\"\" width=\"2.5%\" class=\"fixed-side\"><img _ngcontent-sbs-c101=\"\" alt=\"\" class=\"foto_agrupacion\" src=\"./assets/iconos/iconos_reales/00000002.jpg\"></td><!----><td _ngcontent-sbs-c101=\"\" width=\"2.5%\" class=\"fixed-side\"><img _ngcontent-sbs-c101=\"\" alt=\"\" class=\"foto_agrupacion\" src=\"./assets/imagenes/candidatos/00000002.jpg\"></td><!----><!----><!----><td _ngcontent-sbs-c101=\"\" width=\"40%\" class=\"fixed-side\" style=\"min-width: 440px;\"> ALIANZA PARA EL PROGRESO</td><!----><td _ngcontent-sbs-c101=\"\" width=\"auto\" align=\"center\" class=\"fixed-side\">241</td><td _ngcontent-sbs-c101=\"\" width=\"auto\" align=\"center\" class=\"fixed-side\"> 6.314% <!----><!----></td><td _ngcontent-sbs-c101=\"\" width=\"auto\" align=\"center\" class=\"fixed-side\">4.325%</td></tr><tr _ngcontent-sbs-c101=\"\" class=\"datos_voto\"><!----><!----><td _ngcontent-sbs-c101=\"\" colspan=\"2\" width=\"5%\" class=\"fixed-side\"></td><!----><!----><td _ngcontent-sbs-c101=\"\" class=\"fixed-side\"> TOTAL DE VOTOS VÁLIDOS</td><!----><!----><td _ngcontent-sbs-c101=\"\" width=\"auto\" align=\"center\" class=\"fixed-side\">3,817</td><td _ngcontent-sbs-c101=\"\" width=\"auto\" align=\"center\" class=\"fixed-side\"> 100.000% <!----><!----></td><td _ngcontent-sbs-c101=\"\" width=\"auto\" align=\"center\" class=\"fixed-side\">68.503%</td></tr><tr _ngcontent-sbs-c101=\"\" class=\"datos_voto\"><!----><!----><td _ngcontent-sbs-c101=\"\" colspan=\"2\" width=\"5%\" class=\"fixed-side\"></td><!----><!----><td _ngcontent-sbs-c101=\"\" class=\"fixed-side\"> VOTOS EN BLANCO</td><!----><!----><td _ngcontent-sbs-c101=\"\" width=\"auto\" align=\"center\" class=\"fixed-side\">1,326</td><td _ngcontent-sbs-c101=\"\" width=\"auto\" align=\"center\" class=\"fixed-side\"><!----></td><td _ngcontent-sbs-c101=\"\" width=\"auto\" align=\"center\" class=\"fixed-side\">23.798%</td></tr><tr _ngcontent-sbs-c101=\"\" class=\"datos_voto\"><!----><!----><td _ngcontent-sbs-c101=\"\" colspan=\"2\" width=\"5%\" class=\"fixed-side\"></td><!----><!----><td _ngcontent-sbs-c101=\"\" class=\"fixed-side\"> VOTOS NULOS</td><!----><!----><td _ngcontent-sbs-c101=\"\" width=\"auto\" align=\"center\" class=\"fixed-side\">429</td><td _ngcontent-sbs-c101=\"\" width=\"auto\" align=\"center\" class=\"fixed-side\"><!----></td><td _ngcontent-sbs-c101=\"\" width=\"auto\" align=\"center\" class=\"fixed-side\">7.699%</td></tr><tr _ngcontent-sbs-c101=\"\" class=\"datos_voto\"><!----><!----><td _ngcontent-sbs-c101=\"\" colspan=\"2\" width=\"5%\" class=\"fixed-side\"></td><!----><!----><td _ngcontent-sbs-c101=\"\" class=\"fixed-side\"> TOTAL DE VOTOS EMITIDOS</td><!----><!----><td _ngcontent-sbs-c101=\"\" width=\"auto\" align=\"center\" class=\"fixed-side\">5,572</td><td _ngcontent-sbs-c101=\"\" width=\"auto\" align=\"center\" class=\"fixed-side\"><!----></td><td _ngcontent-sbs-c101=\"\" width=\"auto\" align=\"center\" class=\"fixed-side\">100.000%</td></tr><!----></table></div>'"
      ]
     },
     "execution_count": 106,
     "metadata": {},
     "output_type": "execute_result"
    }
   ],
   "source": [
    "raw_table_html"
   ]
  },
  {
   "cell_type": "code",
   "execution_count": 107,
   "id": "9ae86600",
   "metadata": {},
   "outputs": [
    {
     "data": {
      "text/html": [
       "<div>\n",
       "<style scoped>\n",
       "    .dataframe tbody tr th:only-of-type {\n",
       "        vertical-align: middle;\n",
       "    }\n",
       "\n",
       "    .dataframe tbody tr th {\n",
       "        vertical-align: top;\n",
       "    }\n",
       "\n",
       "    .dataframe thead th {\n",
       "        text-align: right;\n",
       "    }\n",
       "</style>\n",
       "<table border=\"1\" class=\"dataframe\">\n",
       "  <thead>\n",
       "    <tr style=\"text-align: right;\">\n",
       "      <th></th>\n",
       "      <th>TOTAL DE VOTOS.2</th>\n",
       "      <th>TOTAL DE VOTOS.3</th>\n",
       "      <th>TOTAL DE VOTOS.4</th>\n",
       "      <th>TOTAL DE VOTOS.5</th>\n",
       "    </tr>\n",
       "  </thead>\n",
       "  <tbody>\n",
       "    <tr>\n",
       "      <th>0</th>\n",
       "      <td>ORGANIZACIONES POLÍTICAS</td>\n",
       "      <td>TOTAL</td>\n",
       "      <td>%VÁLIDOS</td>\n",
       "      <td>%EMITIDOS</td>\n",
       "    </tr>\n",
       "    <tr>\n",
       "      <th>1</th>\n",
       "      <td>PARTIDO NACIONALISTA PERUANO</td>\n",
       "      <td>356</td>\n",
       "      <td>9.327%</td>\n",
       "      <td>6.389%</td>\n",
       "    </tr>\n",
       "    <tr>\n",
       "      <th>2</th>\n",
       "      <td>EL FRENTE AMPLIO POR JUSTICIA, VIDA Y LIBERTAD</td>\n",
       "      <td>13</td>\n",
       "      <td>0.341%</td>\n",
       "      <td>0.233%</td>\n",
       "    </tr>\n",
       "    <tr>\n",
       "      <th>3</th>\n",
       "      <td>PARTIDO MORADO</td>\n",
       "      <td>41</td>\n",
       "      <td>1.074%</td>\n",
       "      <td>0.736%</td>\n",
       "    </tr>\n",
       "    <tr>\n",
       "      <th>4</th>\n",
       "      <td>PERU PATRIA SEGURA</td>\n",
       "      <td>4</td>\n",
       "      <td>0.105%</td>\n",
       "      <td>0.072%</td>\n",
       "    </tr>\n",
       "    <tr>\n",
       "      <th>5</th>\n",
       "      <td>VICTORIA NACIONAL</td>\n",
       "      <td>151</td>\n",
       "      <td>3.956%</td>\n",
       "      <td>2.710%</td>\n",
       "    </tr>\n",
       "    <tr>\n",
       "      <th>6</th>\n",
       "      <td>ACCION POPULAR</td>\n",
       "      <td>267</td>\n",
       "      <td>6.995%</td>\n",
       "      <td>4.792%</td>\n",
       "    </tr>\n",
       "    <tr>\n",
       "      <th>7</th>\n",
       "      <td>AVANZA PAIS - PARTIDO DE INTEGRACION SOCIAL</td>\n",
       "      <td>69</td>\n",
       "      <td>1.808%</td>\n",
       "      <td>1.238%</td>\n",
       "    </tr>\n",
       "    <tr>\n",
       "      <th>8</th>\n",
       "      <td>PODEMOS PERU</td>\n",
       "      <td>265</td>\n",
       "      <td>6.943%</td>\n",
       "      <td>4.756%</td>\n",
       "    </tr>\n",
       "    <tr>\n",
       "      <th>9</th>\n",
       "      <td>JUNTOS POR EL PERU</td>\n",
       "      <td>105</td>\n",
       "      <td>2.751%</td>\n",
       "      <td>1.884%</td>\n",
       "    </tr>\n",
       "    <tr>\n",
       "      <th>10</th>\n",
       "      <td>PARTIDO POPULAR CRISTIANO - PPC</td>\n",
       "      <td>8</td>\n",
       "      <td>0.210%</td>\n",
       "      <td>0.144%</td>\n",
       "    </tr>\n",
       "    <tr>\n",
       "      <th>11</th>\n",
       "      <td>FUERZA POPULAR</td>\n",
       "      <td>673</td>\n",
       "      <td>17.632%</td>\n",
       "      <td>12.078%</td>\n",
       "    </tr>\n",
       "    <tr>\n",
       "      <th>12</th>\n",
       "      <td>UNION POR EL PERU</td>\n",
       "      <td>45</td>\n",
       "      <td>1.179%</td>\n",
       "      <td>0.808%</td>\n",
       "    </tr>\n",
       "    <tr>\n",
       "      <th>13</th>\n",
       "      <td>RENOVACION POPULAR</td>\n",
       "      <td>252</td>\n",
       "      <td>6.602%</td>\n",
       "      <td>4.523%</td>\n",
       "    </tr>\n",
       "    <tr>\n",
       "      <th>14</th>\n",
       "      <td>RENACIMIENTO UNIDO NACIONAL</td>\n",
       "      <td>42</td>\n",
       "      <td>1.100%</td>\n",
       "      <td>0.754%</td>\n",
       "    </tr>\n",
       "    <tr>\n",
       "      <th>15</th>\n",
       "      <td>PARTIDO DEMOCRATICO SOMOS PERU</td>\n",
       "      <td>27</td>\n",
       "      <td>0.707%</td>\n",
       "      <td>0.485%</td>\n",
       "    </tr>\n",
       "    <tr>\n",
       "      <th>16</th>\n",
       "      <td>PARTIDO POLITICO NACIONAL PERU LIBRE</td>\n",
       "      <td>1250</td>\n",
       "      <td>32.748%</td>\n",
       "      <td>22.434%</td>\n",
       "    </tr>\n",
       "    <tr>\n",
       "      <th>17</th>\n",
       "      <td>DEMOCRACIA DIRECTA</td>\n",
       "      <td>8</td>\n",
       "      <td>0.210%</td>\n",
       "      <td>0.144%</td>\n",
       "    </tr>\n",
       "    <tr>\n",
       "      <th>18</th>\n",
       "      <td>ALIANZA PARA EL PROGRESO</td>\n",
       "      <td>241</td>\n",
       "      <td>6.314%</td>\n",
       "      <td>4.325%</td>\n",
       "    </tr>\n",
       "    <tr>\n",
       "      <th>19</th>\n",
       "      <td>TOTAL DE VOTOS VÁLIDOS</td>\n",
       "      <td>3817</td>\n",
       "      <td>100.000%</td>\n",
       "      <td>68.503%</td>\n",
       "    </tr>\n",
       "    <tr>\n",
       "      <th>20</th>\n",
       "      <td>VOTOS EN BLANCO</td>\n",
       "      <td>1326</td>\n",
       "      <td>NaN</td>\n",
       "      <td>23.798%</td>\n",
       "    </tr>\n",
       "    <tr>\n",
       "      <th>21</th>\n",
       "      <td>VOTOS NULOS</td>\n",
       "      <td>429</td>\n",
       "      <td>NaN</td>\n",
       "      <td>7.699%</td>\n",
       "    </tr>\n",
       "    <tr>\n",
       "      <th>22</th>\n",
       "      <td>TOTAL DE VOTOS EMITIDOS</td>\n",
       "      <td>5572</td>\n",
       "      <td>NaN</td>\n",
       "      <td>100.000%</td>\n",
       "    </tr>\n",
       "  </tbody>\n",
       "</table>\n",
       "</div>"
      ],
      "text/plain": [
       "                                  TOTAL DE VOTOS.2 TOTAL DE VOTOS.3  \\\n",
       "0                         ORGANIZACIONES POLÍTICAS            TOTAL   \n",
       "1                     PARTIDO NACIONALISTA PERUANO              356   \n",
       "2   EL FRENTE AMPLIO POR JUSTICIA, VIDA Y LIBERTAD               13   \n",
       "3                                   PARTIDO MORADO               41   \n",
       "4                               PERU PATRIA SEGURA                4   \n",
       "5                                VICTORIA NACIONAL              151   \n",
       "6                                   ACCION POPULAR              267   \n",
       "7      AVANZA PAIS - PARTIDO DE INTEGRACION SOCIAL               69   \n",
       "8                                     PODEMOS PERU              265   \n",
       "9                               JUNTOS POR EL PERU              105   \n",
       "10                 PARTIDO POPULAR CRISTIANO - PPC                8   \n",
       "11                                  FUERZA POPULAR              673   \n",
       "12                               UNION POR EL PERU               45   \n",
       "13                              RENOVACION POPULAR              252   \n",
       "14                     RENACIMIENTO UNIDO NACIONAL               42   \n",
       "15                  PARTIDO DEMOCRATICO SOMOS PERU               27   \n",
       "16            PARTIDO POLITICO NACIONAL PERU LIBRE             1250   \n",
       "17                              DEMOCRACIA DIRECTA                8   \n",
       "18                        ALIANZA PARA EL PROGRESO              241   \n",
       "19                          TOTAL DE VOTOS VÁLIDOS             3817   \n",
       "20                                 VOTOS EN BLANCO             1326   \n",
       "21                                     VOTOS NULOS              429   \n",
       "22                         TOTAL DE VOTOS EMITIDOS             5572   \n",
       "\n",
       "   TOTAL DE VOTOS.4 TOTAL DE VOTOS.5  \n",
       "0          %VÁLIDOS        %EMITIDOS  \n",
       "1            9.327%           6.389%  \n",
       "2            0.341%           0.233%  \n",
       "3            1.074%           0.736%  \n",
       "4            0.105%           0.072%  \n",
       "5            3.956%           2.710%  \n",
       "6            6.995%           4.792%  \n",
       "7            1.808%           1.238%  \n",
       "8            6.943%           4.756%  \n",
       "9            2.751%           1.884%  \n",
       "10           0.210%           0.144%  \n",
       "11          17.632%          12.078%  \n",
       "12           1.179%           0.808%  \n",
       "13           6.602%           4.523%  \n",
       "14           1.100%           0.754%  \n",
       "15           0.707%           0.485%  \n",
       "16          32.748%          22.434%  \n",
       "17           0.210%           0.144%  \n",
       "18           6.314%           4.325%  \n",
       "19         100.000%          68.503%  \n",
       "20              NaN          23.798%  \n",
       "21              NaN           7.699%  \n",
       "22              NaN         100.000%  "
      ]
     },
     "execution_count": 107,
     "metadata": {},
     "output_type": "execute_result"
    }
   ],
   "source": [
    "pd.read_html(raw_table_html)[0].iloc[ : ,2:]"
   ]
  },
  {
   "cell_type": "code",
   "execution_count": null,
   "id": "12b8acfa",
   "metadata": {},
   "outputs": [],
   "source": []
  }
 ],
 "metadata": {
  "kernelspec": {
   "display_name": "Python 3 (ipykernel)",
   "language": "python",
   "name": "python3"
  },
  "language_info": {
   "codemirror_mode": {
    "name": "ipython",
    "version": 3
   },
   "file_extension": ".py",
   "mimetype": "text/x-python",
   "name": "python",
   "nbconvert_exporter": "python",
   "pygments_lexer": "ipython3",
   "version": "3.11.5"
  }
 },
 "nbformat": 4,
 "nbformat_minor": 5
}
