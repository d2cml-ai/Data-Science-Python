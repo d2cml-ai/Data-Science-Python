{
 "cells": [
  {
   "cell_type": "code",
   "execution_count": 1,
   "id": "8b4870f5",
   "metadata": {},
   "outputs": [],
   "source": [
    "from selenium import webdriver\n",
    "from selenium.webdriver.chrome.service import Service\n",
    "from selenium.webdriver.common.keys import Keys\n",
    "from selenium.webdriver import ActionChains\n",
    "from bs4 import BeautifulSoup\n",
    "import os\n",
    "import time\n",
    "from selenium import webdriver\n",
    "from selenium.webdriver.common.by import By\n",
    "from selenium.webdriver.common.action_chains import ActionChains\n",
    "from selenium.webdriver.support.ui import WebDriverWait\n",
    "from selenium.webdriver.support import expected_conditions as EC\n",
    "import requests"
   ]
  },
  {
   "cell_type": "markdown",
   "id": "057bf62d",
   "metadata": {},
   "source": [
    "## Launch the driver "
   ]
  },
  {
   "cell_type": "code",
   "execution_count": 2,
   "id": "e5801fe6",
   "metadata": {},
   "outputs": [],
   "source": [
    "service = Service(executable_path=r'../chromedriver-win64/chromedriver.exe')\n",
    "options = webdriver.ChromeOptions()\n",
    "driver = webdriver.Chrome(service=service, options=options)\n",
    "\n",
    "url = 'https://infogob.jne.gob.pe/Eleccion'\n",
    "driver.get(url)\n",
    "driver.maximize_window()"
   ]
  },
  {
   "cell_type": "markdown",
   "id": "751f7917",
   "metadata": {},
   "source": [
    "## Select the 2021 presidential election in the dropdown list"
   ]
  },
  {
   "cell_type": "code",
   "execution_count": 3,
   "id": "4ea82e83",
   "metadata": {},
   "outputs": [],
   "source": [
    "# we open the dropdown list for 'Tipo de eleccion'\n",
    "dropdown_tipo = WebDriverWait(driver, 10).until(\n",
    "    EC.element_to_be_clickable((By.XPATH, '/html/body/div[1]/section/div[2]/div[2]/div[2]/div[1]/div'))\n",
    ")\n",
    "dropdown_tipo.click()\n",
    "\n",
    "# We select the option that contains 'ELECCIONES PRESIDENCIALES'\n",
    "option_presidencial = WebDriverWait(driver, 10).until(\n",
    "    EC.element_to_be_clickable((By.XPATH, '//div[contains(text(), \"ELECCIONES PRESIDENCIALES\")]'))\n",
    ")\n",
    "option_presidencial.click()\n",
    "\n",
    "# We open the second dropdown and select t\n",
    "dropdown_eleccion = WebDriverWait(driver, 10).until(\n",
    "    EC.element_to_be_clickable((By.XPATH, '/html/body/div[1]/section/div[2]/div[2]/div[2]/div[2]/div'))\n",
    ")\n",
    "dropdown_eleccion.click()\n",
    "\n",
    "# We select the option from the second dropdown\n",
    "option_presidencial21 = WebDriverWait(driver, 10).until(\n",
    "    EC.element_to_be_clickable((By.XPATH, '//div[contains(text(), \"PRESIDENCIAL 2021 - 2DA VUELTA\")]'))\n",
    ")\n",
    "option_presidencial21.click()\n"
   ]
  },
  {
   "cell_type": "code",
   "execution_count": 4,
   "id": "ebbfa35c",
   "metadata": {},
   "outputs": [],
   "source": [
    "# We click the search button\n",
    "driver.find_element(By.ID,'btnVerDatos').click()"
   ]
  },
  {
   "cell_type": "code",
   "execution_count": null,
   "id": "dfb7dcc5",
   "metadata": {},
   "outputs": [],
   "source": []
  }
 ],
 "metadata": {
  "kernelspec": {
   "display_name": "Python 3 (ipykernel)",
   "language": "python",
   "name": "python3"
  },
  "language_info": {
   "codemirror_mode": {
    "name": "ipython",
    "version": 3
   },
   "file_extension": ".py",
   "mimetype": "text/x-python",
   "name": "python",
   "nbconvert_exporter": "python",
   "pygments_lexer": "ipython3",
   "version": "3.11.5"
  }
 },
 "nbformat": 4,
 "nbformat_minor": 5
}
