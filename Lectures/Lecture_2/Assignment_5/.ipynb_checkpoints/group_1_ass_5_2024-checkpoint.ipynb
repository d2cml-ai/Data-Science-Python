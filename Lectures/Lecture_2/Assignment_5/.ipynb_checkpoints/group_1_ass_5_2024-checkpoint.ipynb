{
 "cells": [
  {
   "cell_type": "markdown",
   "metadata": {},
   "source": [
    "# Assignment 5\n",
    "The script should not give an error. Any mistake will be consider as 0.\n"
   ]
  },
  {
   "cell_type": "code",
   "execution_count": null,
   "metadata": {},
   "outputs": [],
   "source": [
    "pwd"
   ]
  },
  {
   "cell_type": "code",
   "execution_count": null,
   "metadata": {},
   "outputs": [],
   "source": [
    "# !pip install openpyxl\n",
    "# !pip install selenium\n",
    "# !pip install webdriver-manager\n",
    "# !pip install html5lib\n",
    "# !pip install lxml"
   ]
  },
  {
   "cell_type": "code",
   "execution_count": null,
   "metadata": {},
   "outputs": [],
   "source": [
    "import pandas as pd\n",
    "\n",
    "from selenium import webdriver\n",
    "from selenium.webdriver.chrome.service import Service\n",
    "from selenium.webdriver.common.by import By\n",
    "from selenium.webdriver.support.ui import WebDriverWait\n",
    "from selenium.webdriver.support import expected_conditions as EC\n",
    "import re\n",
    "import time\n",
    "import warnings\n",
    "warnings.filterwarnings(\"ignore\")"
   ]
  },
  {
   "cell_type": "code",
   "execution_count": null,
   "metadata": {},
   "outputs": [],
   "source": [
    "# First, open the url and set the timeout to 4 seconds\n",
    "service = Service(executable_path=\"chromedriver-mac64/chromedriver\")\n",
    "options = webdriver.ChromeOptions()\n",
    "driver = webdriver.Chrome(service=service, options=options)\n",
    "driver.maximize_window()\n",
    "driver.execute_script(\"document.body.style.zoom='100%'\")\n",
    "\n",
    "url = \"https://infogob.jne.gob.pe/Eleccion\"\n",
    "driver.get( url )\n",
    "time.sleep(4)\n",
    "\n",
    "# Second, choose the type of process, in this case 'presidencial'\n",
    "driver.find_element(By.XPATH, '/html/body/div[1]/section/div[2]/div[2]/div[2]/div[1]/div').click()\n",
    "driver.find_element(By.XPATH, '/html/body/div[1]/section/div[2]/div[2]/div[2]/div[1]/div/div[2]/div[2]').click()\n",
    "time.sleep(3)\n",
    "\n",
    "# Third, get all the elments in list of election years\n",
    "driver.find_element(By.XPATH, '/html/body/div[1]/section/div[2]/div[2]/div[2]/div[2]/div').click()\n",
    "lista_eleccion = driver.find_element(By.XPATH, '/html/body/div[1]/section/div[2]/div[2]/div[2]/div[2]/div/div[2]')\n",
    "opciones_lista_eleccion = [ x for x in lista_eleccion.find_elements(By.TAG_NAME, \"div\") ]\n",
    "dict_opciones_lista_eleccion = { option.text : option for option in opciones_lista_eleccion }\n",
    "\n",
    "# Fourth, create the data frame where we will save results\n",
    "df_resultados = pd.DataFrame(columns=['ELECCIONES', 'ORGANIZACIÓN POLÍTICA', 'TOTAL VOTOS'])\n",
    "\n",
    "# Fifth, iterate for all the elements in the dictionary created based on list of election years\n",
    "for elemento_txt in list(dict_opciones_lista_eleccion.keys())[1:]:\n",
    "    elemento = dict_opciones_lista_eleccion[elemento_txt]\n",
    "    elemento.click() # click on the second element, the first is \"SELECCION\" so we don't need it\n",
    "\n",
    "    # click on the button to see results\n",
    "    boton_ver_datos = WebDriverWait(driver, 3).until(\n",
    "        EC.element_to_be_clickable((By.ID, 'btnVerDatos'))\n",
    "    ).click()\n",
    "    time.sleep(5)\n",
    "    \n",
    "    # choose the tab 'CANDIDATOS Y RESULTADOS'\n",
    "    driver.find_element(By.XPATH, '/html/body/div[1]/section/div[2]/div[3]/div[1]/ul/li[2]').click()\n",
    "    time.sleep(3)\n",
    "\n",
    "    # found and get the table with results\n",
    "    ubi_tabla = driver.find_element(By.XPATH, '/html/body/div[1]/section/div[2]/div[3]/div[3]/div/div/div/div[1]/div[2]/div[2]/div[2]')\n",
    "    tabla_html = ubi_tabla.get_attribute('innerHTML')\n",
    "    tabla_resultados = pd.read_html(tabla_html)[0]\n",
    "    # create a column with the information of the year of election\n",
    "    tabla_resultados['ELECCIONES'] = elemento_txt\n",
    "    # keep columns we need\n",
    "    columnas_deseadas = ['ELECCIONES', 'ORGANIZACIÓN POLÍTICA', 'TOTAL VOTOS']\n",
    "    tabla_resultados = tabla_resultados[columnas_deseadas]"
   ]
  }
 ],
 "metadata": {
  "hide_input": false,
  "kernelspec": {
   "display_name": "Python 3 (ipykernel)",
   "language": "python",
   "name": "python3"
  },
  "language_info": {
   "codemirror_mode": {
    "name": "ipython",
    "version": 3
   },
   "file_extension": ".py",
   "mimetype": "text/x-python",
   "name": "python",
   "nbconvert_exporter": "python",
   "pygments_lexer": "ipython3",
   "version": "3.11.5"
  },
  "toc": {
   "base_numbering": 1,
   "nav_menu": {},
   "number_sections": true,
   "sideBar": true,
   "skip_h1_title": false,
   "title_cell": "Table of Contents",
   "title_sidebar": "Contents",
   "toc_cell": false,
   "toc_position": {},
   "toc_section_display": true,
   "toc_window_display": false
  }
 },
 "nbformat": 4,
 "nbformat_minor": 4
}
