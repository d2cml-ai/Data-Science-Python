{
 "cells": [
  {
   "cell_type": "markdown",
   "metadata": {},
   "source": [
    "# Assignment 5\n",
    "The script should not give an error. Any mistake will be consider as 0.\n"
   ]
  },
  {
   "cell_type": "markdown",
   "metadata": {},
   "source": [
    "## 0. Set up"
   ]
  },
  {
   "cell_type": "markdown",
   "metadata": {},
   "source": [
    "### 0.1. Library import"
   ]
  },
  {
   "cell_type": "code",
   "execution_count": 1,
   "metadata": {},
   "outputs": [],
   "source": [
    "# Libraries that we uses\n",
    "import pandas as pd\n",
    "import re\n",
    "import time \n",
    "from selenium import webdriver\n",
    "from webdriver_manager.chrome import ChromeDriverManager\n",
    "from selenium.webdriver.chrome.service import Service\n",
    "from selenium.webdriver.common.action_chains import ActionChains\n",
    "from selenium.webdriver.support.ui import Select\n",
    "from selenium.webdriver.common.by import By\n",
    "from selenium.webdriver.common.keys import Keys\n",
    "from selenium.webdriver.support.ui import WebDriverWait\n",
    "from selenium.webdriver.support import expected_conditions as EC"
   ]
  },
  {
   "cell_type": "markdown",
   "metadata": {},
   "source": [
    "### 0.2. Driver set up"
   ]
  },
  {
   "cell_type": "code",
   "execution_count": 2,
   "metadata": {},
   "outputs": [],
   "source": [
    "service = Service(executable_path=\"chromedriver-win64/chromedriver\")\n",
    "options = webdriver.ChromeOptions()\n",
    "driver = webdriver.Chrome(service=service, options=options)\n",
    "driver.maximize_window()\n",
    "# Set up defaul wait time\n",
    "default = 3"
   ]
  },
  {
   "cell_type": "markdown",
   "metadata": {},
   "source": [
    "# 1. Extract presidential electoral data "
   ]
  },
  {
   "cell_type": "code",
   "execution_count": 9,
   "metadata": {
    "scrolled": true
   },
   "outputs": [
    {
     "name": "stdout",
     "output_type": "stream",
     "text": [
      "PRESIDENCIAL 2021 - 2DA VUELTA\n",
      "PRESIDENCIAL 2021\n",
      "PRESIDENCIAL 2016 - 2DA VUELTA\n",
      "PRESIDENCIAL 2016\n",
      "PRESIDENCIAL 2011 - 2DA VUELTA\n",
      "PRESIDENCIAL 2011\n",
      "PRESIDENCIAL 2006 - 2DA VUELTA\n",
      "PRESIDENCIAL 2006\n",
      "PRESIDENCIAL 2001 - 2DA VUELTA\n",
      "PRESIDENCIAL 2001\n",
      "PRESIDENCIAL 2000 - 2DA VUELTA\n",
      "PRESIDENCIAL 2000\n",
      "PRESIDENCIAL 1995\n",
      "PRESIDENCIAL 1990 - 2DA VUELTA\n",
      "PRESIDENCIAL 1990\n",
      "PRESIDENCIAL 1985\n",
      "PRESIDENCIAL 1980\n",
      "PRESIDENCIAL 1963\n",
      "PRESIDENCIAL 1962\n",
      "PRESIDENCIAL 1956\n",
      "PRESIDENCIAL 1950\n",
      "PRESIDENCIAL 1945\n",
      "PRESIDENCIAL 1939\n",
      "PRESIDENCIAL 1936\n",
      "PRESIDENCIAL 1931\n"
     ]
    }
   ],
   "source": [
    "# 1. Go to Electoral website\n",
    "url = 'https://infogob.jne.gob.pe/Eleccion'\n",
    "driver.get( url )\n",
    "time.sleep(default)\n",
    "# 2. Select the type of process\n",
    "## Type: Presidenciales, Congresales, entre otras\n",
    "tipo_proceso = '/html/body/div[1]/section/div[2]/div[2]/div[2]/div[1]'\n",
    "## Presidencial process\n",
    "tipo = '//*[@id=\"section\"]/div[2]/div[2]/div[2]/div[1]/div/div[2]/div[2]'\n",
    "### Click on select item\n",
    "driver.find_element(By.XPATH, tipo_proceso).click()\n",
    "time.sleep(default)\n",
    "### Select our type of election\n",
    "driver.find_element(By.XPATH, tipo).click()\n",
    "\n",
    "#3. Choose the presidential process\n",
    "## 3.1. Click on the select item with all presidential processes\n",
    "eleccion_tipo = '/html/body/div[1]/section/div[2]/div[2]/div[2]/div[2]'\n",
    "driver.find_element(By.XPATH, eleccion_tipo).click()\n",
    "time.sleep(default)\n",
    "## 3.2. Get all options\n",
    "elecciones = '//*[@id=\"IdEleccion\"]'\n",
    "procesos = Select(driver.find_element(By.XPATH,elecciones)).options\n",
    "\n",
    "# 4. Get all data\n",
    "## 4.0. Create our main data container\n",
    "data =  pd.DataFrame(columns=['Elecciones', 'ORGANIZACIÓN POLÍTICA', 'TOTAL VOTOS'])\n",
    "## 4.1. Get specific process data in using loop\n",
    "## Keynote: We skip 1 because is '[Seleccione]' option\n",
    "for i in range(2, len(procesos) + 1):  \n",
    "    # Re-start 1-3\n",
    "    driver.get( url )\n",
    "    time.sleep(default)\n",
    "    # 2. Select the type of process\n",
    "    ## Type: Presidenciales, Congresales, entre otras\n",
    "    ## Presidencial process\n",
    "    ### Click on select item\n",
    "    driver.find_element(By.XPATH, tipo_proceso).click()\n",
    "    time.sleep(default)\n",
    "    ### Select our type of election\n",
    "    driver.find_element(By.XPATH, tipo).click()\n",
    "    time.sleep(default)\n",
    "\n",
    "    #3. Choose the presidential process\n",
    "    ## 3.1. Click on the select item with all presidential processes\n",
    "    driver.find_element(By.XPATH, eleccion_tipo).click()\n",
    "    time.sleep(default)\n",
    "\n",
    "    ### 4.1.2. Save the name of the process\n",
    "    eleccion = '/html/body/div[1]/section/div[2]/div[2]/div[2]/div[2]/div/div[2]/div[' + str(i) + ']'\n",
    "    electoral = driver.find_element(By.XPATH, eleccion).text \n",
    "    print(electoral)\n",
    "    ### 4.1.3. Access to the electoral process\n",
    "    WebDriverWait(driver, 10).until(EC.visibility_of_element_located((By.XPATH, eleccion)))    \n",
    "    driver.find_element(By.XPATH, eleccion).click()\n",
    "    time.sleep(default)\n",
    "    ### 4.1.4. Go to the i-electoral process website\n",
    "    ver_datos = '/html/body/div[1]/section/div[2]/div[2]/div[3]/div/button'\n",
    "    driver.find_element(By.XPATH, ver_datos).click()\n",
    "    time.sleep(default*2)\n",
    "    ### 4.1.5. Go the section with our data ´CANDIDATOS Y RESULTADOS´\n",
    "    candidatos_resultados = '//*[@id=\"section\"]/div[2]/div[3]/div[1]/ul/li[2]'\n",
    "    driver.find_element(By.XPATH, candidatos_resultados).click()\n",
    "    time.sleep(default)\n",
    "    ### 4.1.6. Identify and extract from the table with the data\n",
    "    tabla_resultado = '//*[@id=\"CandidatosResultados\"]/div/div[1]/div[2]/div[2]'\n",
    "    tabla_resultado = driver.find_element(By.XPATH, tabla_resultado)\n",
    "    tabla_electoral = tabla_resultado.get_attribute('innerHTML')\n",
    "    tabla_electoral = pd.read_html(tabla_electoral)[0]\n",
    "    ### 4.1.7. Create the process identifier\n",
    "    tabla_electoral['Elecciones'] = electoral\n",
    "    ### 4.1.8. Save the data in the main container - Print the process\n",
    "    data = pd.concat([data, tabla_electoral[['Elecciones','ORGANIZACIÓN POLÍTICA','TOTAL VOTOS']]], ignore_index=True)"
   ]
  },
  {
   "cell_type": "code",
   "execution_count": 10,
   "metadata": {},
   "outputs": [
    {
     "name": "stdout",
     "output_type": "stream",
     "text": [
      "                         Elecciones                 ORGANIZACIÓN POLÍTICA  \\\n",
      "0    PRESIDENCIAL 2021 - 2DA VUELTA  PARTIDO POLITICO NACIONAL PERU LIBRE   \n",
      "1    PRESIDENCIAL 2021 - 2DA VUELTA                        FUERZA POPULAR   \n",
      "2    PRESIDENCIAL 2021 - 2DA VUELTA                       VOTOS EN BLANCO   \n",
      "3    PRESIDENCIAL 2021 - 2DA VUELTA                           VOTOS NULOS   \n",
      "4                 PRESIDENCIAL 2021  PARTIDO POLITICO NACIONAL PERU LIBRE   \n",
      "..                              ...                                   ...   \n",
      "152               PRESIDENCIAL 1936                   PARTIDO REPUBLICANO   \n",
      "153               PRESIDENCIAL 1931                  UNION REVOLUCIONARIA   \n",
      "154               PRESIDENCIAL 1931               PARTIDO APRISTA PERUANO   \n",
      "155               PRESIDENCIAL 1931                PARTIDO DESCENTRALISTA   \n",
      "156               PRESIDENCIAL 1931            PARTIDO COALICION NACIONAL   \n",
      "\n",
      "    TOTAL VOTOS  \n",
      "0       8836380  \n",
      "1       8792117  \n",
      "2        121489  \n",
      "3       1106816  \n",
      "4       2724752  \n",
      "..          ...  \n",
      "152       30803  \n",
      "153      152149  \n",
      "154      106088  \n",
      "155       21950  \n",
      "156       19640  \n",
      "\n",
      "[157 rows x 3 columns]\n"
     ]
    }
   ],
   "source": [
    "# 5. Consolidate all data and export in a Excel's file\n",
    "print(data)\n",
    "# Export the resulting DataFrame to an Excel file\n",
    "data.to_excel('Elecciones_presidenciales_group4_Josue_ass_5_2024.xlsx', index=True)    \n",
    "## 6. Quit the driver when we get all data\n",
    "driver.quit()"
   ]
  }
 ],
 "metadata": {
  "hide_input": false,
  "kernelspec": {
   "display_name": "Python 3 (ipykernel)",
   "language": "python",
   "name": "python3"
  },
  "language_info": {
   "codemirror_mode": {
    "name": "ipython",
    "version": 3
   },
   "file_extension": ".py",
   "mimetype": "text/x-python",
   "name": "python",
   "nbconvert_exporter": "python",
   "pygments_lexer": "ipython3",
   "version": "3.9.12"
  },
  "toc": {
   "base_numbering": 1,
   "nav_menu": {},
   "number_sections": true,
   "sideBar": true,
   "skip_h1_title": false,
   "title_cell": "Table of Contents",
   "title_sidebar": "Contents",
   "toc_cell": false,
   "toc_position": {},
   "toc_section_display": true,
   "toc_window_display": false
  }
 },
 "nbformat": 4,
 "nbformat_minor": 4
}
