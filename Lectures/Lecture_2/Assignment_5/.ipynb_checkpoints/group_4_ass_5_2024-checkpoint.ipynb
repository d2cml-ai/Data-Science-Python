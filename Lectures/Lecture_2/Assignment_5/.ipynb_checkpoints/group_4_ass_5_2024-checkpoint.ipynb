{
 "cells": [
  {
   "cell_type": "markdown",
   "id": "34ee5d5a",
   "metadata": {},
   "source": [
    "# 1. Librerías"
   ]
  },
  {
   "cell_type": "code",
   "execution_count": 1,
   "id": "31d3597f",
   "metadata": {},
   "outputs": [
    {
     "name": "stdout",
     "output_type": "stream",
     "text": [
      "Requirement already satisfied: selenium in c:\\anaconda\\lib\\site-packages (4.16.0)\n",
      "Requirement already satisfied: urllib3[socks]<3,>=1.26 in c:\\anaconda\\lib\\site-packages (from selenium) (1.26.16)\n",
      "Requirement already satisfied: trio~=0.17 in c:\\anaconda\\lib\\site-packages (from selenium) (0.24.0)\n",
      "Requirement already satisfied: trio-websocket~=0.9 in c:\\anaconda\\lib\\site-packages (from selenium) (0.11.1)\n",
      "Requirement already satisfied: certifi>=2021.10.8 in c:\\anaconda\\lib\\site-packages (from selenium) (2023.11.17)\n",
      "Requirement already satisfied: attrs>=20.1.0 in c:\\anaconda\\lib\\site-packages (from trio~=0.17->selenium) (22.1.0)\n",
      "Requirement already satisfied: sortedcontainers in c:\\anaconda\\lib\\site-packages (from trio~=0.17->selenium) (2.4.0)\n",
      "Requirement already satisfied: idna in c:\\anaconda\\lib\\site-packages (from trio~=0.17->selenium) (3.4)\n",
      "Requirement already satisfied: outcome in c:\\anaconda\\lib\\site-packages (from trio~=0.17->selenium) (1.3.0.post0)\n",
      "Requirement already satisfied: sniffio>=1.3.0 in c:\\anaconda\\lib\\site-packages (from trio~=0.17->selenium) (1.3.0)\n",
      "Requirement already satisfied: cffi>=1.14 in c:\\anaconda\\lib\\site-packages (from trio~=0.17->selenium) (1.15.1)\n",
      "Requirement already satisfied: wsproto>=0.14 in c:\\anaconda\\lib\\site-packages (from trio-websocket~=0.9->selenium) (1.2.0)\n",
      "Requirement already satisfied: PySocks!=1.5.7,<2.0,>=1.5.6 in c:\\anaconda\\lib\\site-packages (from urllib3[socks]<3,>=1.26->selenium) (1.7.1)\n",
      "Requirement already satisfied: pycparser in c:\\anaconda\\lib\\site-packages (from cffi>=1.14->trio~=0.17->selenium) (2.21)\n",
      "Requirement already satisfied: h11<1,>=0.9.0 in c:\\anaconda\\lib\\site-packages (from wsproto>=0.14->trio-websocket~=0.9->selenium) (0.14.0)\n"
     ]
    }
   ],
   "source": [
    "!pip install selenium\n",
    "from selenium import webdriver\n",
    "from selenium.webdriver.chrome.service import Service\n",
    "from selenium.webdriver.common.by import By\n",
    "from selenium.webdriver.support.ui import Select\n",
    "from selenium.webdriver.common.action_chains import ActionChains\n",
    "from selenium.webdriver.common.keys import Keys\n",
    "from selenium.webdriver.support.ui import Select\n",
    "from selenium.webdriver.support.ui import WebDriverWait\n",
    "from selenium.webdriver.support import expected_conditions as EC\n",
    "import time\n",
    "import re\n",
    "import time\n",
    "\n",
    "import pandas as pd"
   ]
  },
  {
   "cell_type": "markdown",
   "id": "b5d70ba7",
   "metadata": {},
   "source": [
    "# 2. Configurar el driver"
   ]
  },
  {
   "cell_type": "code",
   "execution_count": 5,
   "id": "1ebdcdb2",
   "metadata": {},
   "outputs": [],
   "source": [
    "from webdriver_manager.chrome import ChromeDriverManager\n",
    "import re\n",
    "import time \n",
    "import random\n",
    "from selenium.webdriver.common.by import By\n",
    "from selenium.webdriver.support.ui import WebDriverWait\n",
    "from selenium.webdriver.support import expected_conditions as EC\n",
    "import pandas as pd # for table import\n",
    "from selenium import webdriver\n",
    "from selenium.webdriver.chrome.service import Service"
   ]
  },
  {
   "cell_type": "code",
   "execution_count": 3,
   "id": "2f0e8529",
   "metadata": {},
   "outputs": [],
   "source": [
    "\n",
    "service = Service(executable_path=\"chromedriver-win64/chromedriver\")\n",
    "options = webdriver.ChromeOptions()\n",
    "driver = webdriver.Chrome(service = service,  options = options)\n",
    "\n",
    "#1. Access to the elections page\n",
    "driver.maximize_window()\n",
    "url = 'https://infogob.jne.gob.pe/Eleccion'\n",
    "driver.get(url)\n",
    "time.sleep(default)"
   ]
  },
  {
   "cell_type": "markdown",
   "id": "ca7d7b3c",
   "metadata": {},
   "source": [
    "# 3. Navegar con el driver\n"
   ]
  },
  {
   "cell_type": "markdown",
   "id": "79171b07",
   "metadata": {},
   "source": [
    "# 4. Extraer la data"
   ]
  },
  {
   "cell_type": "markdown",
   "id": "14f01b2a",
   "metadata": {},
   "source": [
    "# Solucion "
   ]
  },
  {
   "cell_type": "code",
   "execution_count": 40,
   "id": "7f9cc766",
   "metadata": {},
   "outputs": [
    {
     "name": "stdout",
     "output_type": "stream",
     "text": [
      "PRESIDENCIAL 2021 - 2DA VUELTA\n",
      "PRESIDENCIAL 2021\n",
      "PRESIDENCIAL 2016 - 2DA VUELTA\n",
      "PRESIDENCIAL 2016\n",
      "PRESIDENCIAL 2011 - 2DA VUELTA\n",
      "PRESIDENCIAL 2011\n",
      "PRESIDENCIAL 2006 - 2DA VUELTA\n",
      "PRESIDENCIAL 2006\n",
      "PRESIDENCIAL 2001 - 2DA VUELTA\n",
      "PRESIDENCIAL 2001\n",
      "PRESIDENCIAL 2000 - 2DA VUELTA\n",
      "PRESIDENCIAL 2000\n",
      "PRESIDENCIAL 1995\n",
      "PRESIDENCIAL 1990 - 2DA VUELTA\n",
      "PRESIDENCIAL 1990\n",
      "PRESIDENCIAL 1985\n",
      "PRESIDENCIAL 1980\n",
      "PRESIDENCIAL 1963\n",
      "PRESIDENCIAL 1962\n",
      "PRESIDENCIAL 1956\n",
      "PRESIDENCIAL 1950\n",
      "PRESIDENCIAL 1945\n",
      "PRESIDENCIAL 1939\n",
      "PRESIDENCIAL 1936\n",
      "PRESIDENCIAL 1931\n"
     ]
    }
   ],
   "source": [
    "# 1. Acceder al sitio web electoral\n",
    "service = Service(executable_path=\"chromedriver-win64/chromedriver\")\n",
    "options = webdriver.ChromeOptions()\n",
    "driver = webdriver.Chrome(service = service,  options = options)\n",
    "driver.maximize_window()\n",
    "url = 'https://infogob.jne.gob.pe/Eleccion'\n",
    "driver.get(url)\n",
    "time.sleep(default)\n",
    "\n",
    "# 2. Seleccionar el tipo de proceso\n",
    "# Tipo: Presidenciales, Congresales, entre otros\n",
    "tipo_proceso_xpath = '/html/body/div[1]/section/div[2]/div[2]/div[2]/div[1]'\n",
    "# Proceso Presidencial\n",
    "tipo_xpath = '//*[@id=\"section\"]/div[2]/div[2]/div[2]/div[1]/div/div[2]/div[2]'\n",
    "driver.find_element(By.XPATH, tipo_proceso_xpath).click()\n",
    "time.sleep(default)\n",
    "driver.find_element(By.XPATH, tipo_xpath).click()\n",
    "\n",
    "# 3. Elegir el proceso presidencial\n",
    "# 3.1. Hacer clic en el elemento para todos los procesos presidenciales\n",
    "eleccion_tipo_xpath = '/html/body/div[1]/section/div[2]/div[2]/div[2]/div[2]'\n",
    "driver.find_element(By.XPATH, eleccion_tipo_xpath).click()\n",
    "time.sleep(default)\n",
    "# 3.2. Obtener todas las opciones\n",
    "elecciones_xpath = '//*[@id=\"IdEleccion\"]'\n",
    "procesos = Select(driver.find_element(By.XPATH, elecciones_xpath)).options\n",
    "\n",
    "# 4. Obtener todos los datos\n",
    "    # Crear Data donde guardaremos la información requerida en las siguientes columnas \n",
    "data = pd.DataFrame(columns=['Elecciones', 'ORGANIZACIÓN POLÍTICA', 'TOTAL VOTOS'])\n",
    "\n",
    "    # Creamos un For Loop para automatizar el proceso \n",
    "        #  Saltamos 1 porque es la opción '[Seleccione]'\n",
    "for i in range(2, len(procesos) + 1):\n",
    "        # Reiniciar 1-3\n",
    "    driver.get(url)\n",
    "    time.sleep(default)\n",
    "        # Seleccionar el tipo de proceso\n",
    "    driver.find_element(By.XPATH, tipo_proceso_xpath).click()\n",
    "    time.sleep(default)\n",
    "    driver.find_element(By.XPATH, tipo_xpath).click()\n",
    "    time.sleep(default)\n",
    "\n",
    "    # ...que sea del tipo presidencial \n",
    "    driver.find_element(By.XPATH, eleccion_tipo_xpath).click()\n",
    "    time.sleep(default)\n",
    "\n",
    "    eleccion_xpath = f'/html/body/div[1]/section/div[2]/div[2]/div[2]/div[2]/div/div[2]/div[{i}]'\n",
    "    electoral = driver.find_element(By.XPATH, eleccion_xpath).text\n",
    "    print(electoral)\n",
    "    \n",
    "    WebDriverWait(driver, 10).until(EC.visibility_of_element_located((By.XPATH, eleccion_xpath)))\n",
    "    driver.find_element(By.XPATH, eleccion_xpath).click()\n",
    "    time.sleep(default)\n",
    "\n",
    "    # Ir al sitio web del proceso electoral\n",
    "    ver_datos_xpath = '/html/body/div[1]/section/div[2]/div[2]/div[3]/div/button'\n",
    "    driver.find_element(By.XPATH, ver_datos_xpath).click()\n",
    "    time.sleep(default*2)\n",
    "\n",
    "    # Ir a la sección con nuestros datos 'CANDIDATOS Y RESULTADOS'\n",
    "    candidatos_resultados_xpath = '//*[@id=\"section\"]/div[2]/div[3]/div[1]/ul/li[2]'\n",
    "    driver.find_element(By.XPATH, candidatos_resultados_xpath).click()\n",
    "    time.sleep(default)\n",
    "\n",
    "    #  Extraer datos de la tabla\n",
    "    tabla_resultado_xpath = '//*[@id=\"CandidatosResultados\"]/div/div[1]/div[2]/div[2]'\n",
    "    tabla_resultado = driver.find_element(By.XPATH, tabla_resultado_xpath)\n",
    "    tabla_electoral = tabla_resultado.get_attribute('innerHTML')\n",
    "    tabla_electoral = pd.read_html(tabla_electoral)[0]\n",
    "    tabla_electoral['Elecciones'] = electoral\n",
    "\n",
    "    # Guardar los datos en DATA\n",
    "    data = pd.concat([data, tabla_electoral[['Elecciones', 'ORGANIZACIÓN POLÍTICA', 'TOTAL VOTOS']]], ignore_index=True)\n"
   ]
  },
  {
   "cell_type": "code",
   "execution_count": null,
   "id": "5946af37",
   "metadata": {},
   "outputs": [],
   "source": [
    " "
   ]
  },
  {
   "cell_type": "markdown",
   "id": "df1a9d07",
   "metadata": {},
   "source": [
    "# 5. Convertir tabla en excel y exportar archivo excel"
   ]
  },
  {
   "cell_type": "code",
   "execution_count": 45,
   "id": "ec350f21",
   "metadata": {},
   "outputs": [
    {
     "name": "stdout",
     "output_type": "stream",
     "text": [
      "                         Elecciones                 ORGANIZACIÓN POLÍTICA  \\\n",
      "0    PRESIDENCIAL 2021 - 2DA VUELTA  PARTIDO POLITICO NACIONAL PERU LIBRE   \n",
      "1    PRESIDENCIAL 2021 - 2DA VUELTA                        FUERZA POPULAR   \n",
      "2    PRESIDENCIAL 2021 - 2DA VUELTA                       VOTOS EN BLANCO   \n",
      "3    PRESIDENCIAL 2021 - 2DA VUELTA                           VOTOS NULOS   \n",
      "4                 PRESIDENCIAL 2021  PARTIDO POLITICO NACIONAL PERU LIBRE   \n",
      "..                              ...                                   ...   \n",
      "152               PRESIDENCIAL 1936                   PARTIDO REPUBLICANO   \n",
      "153               PRESIDENCIAL 1931                  UNION REVOLUCIONARIA   \n",
      "154               PRESIDENCIAL 1931               PARTIDO APRISTA PERUANO   \n",
      "155               PRESIDENCIAL 1931                PARTIDO DESCENTRALISTA   \n",
      "156               PRESIDENCIAL 1931            PARTIDO COALICION NACIONAL   \n",
      "\n",
      "    TOTAL VOTOS  \n",
      "0       8836380  \n",
      "1       8792117  \n",
      "2        121489  \n",
      "3       1106816  \n",
      "4       2724752  \n",
      "..          ...  \n",
      "152       30803  \n",
      "153      152149  \n",
      "154      106088  \n",
      "155       21950  \n",
      "156       19640  \n",
      "\n",
      "[157 rows x 3 columns]\n"
     ]
    }
   ],
   "source": [
    "#iMPRIMIR DATA \n",
    "print(data)\n",
    "\n",
    "data.to_excel('Elecciones_presidenciales_group4_ass_5_2024.xlsx', index=True)\n",
    "\n",
    "#Cerrar el driver \n",
    "driver.quit() \n"
   ]
  },
  {
   "cell_type": "code",
   "execution_count": null,
   "id": "57823b0b",
   "metadata": {},
   "outputs": [],
   "source": []
  },
  {
   "cell_type": "code",
   "execution_count": null,
   "id": "74f9a92c",
   "metadata": {},
   "outputs": [],
   "source": [
    "data.to"
   ]
  }
 ],
 "metadata": {
  "kernelspec": {
   "display_name": "Python 3 (ipykernel)",
   "language": "python",
   "name": "python3"
  },
  "language_info": {
   "codemirror_mode": {
    "name": "ipython",
    "version": 3
   },
   "file_extension": ".py",
   "mimetype": "text/x-python",
   "name": "python",
   "nbconvert_exporter": "python",
   "pygments_lexer": "ipython3",
   "version": "3.11.5"
  }
 },
 "nbformat": 4,
 "nbformat_minor": 5
}
