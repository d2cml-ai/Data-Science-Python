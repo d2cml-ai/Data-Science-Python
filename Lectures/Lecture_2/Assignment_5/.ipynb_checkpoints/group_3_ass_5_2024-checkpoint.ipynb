{
 "cells": [
  {
   "cell_type": "markdown",
   "metadata": {},
   "source": [
    "# Assignment 5\n",
    "The script should not give an error. Any mistake will be consider as 0.\n"
   ]
  },
  {
   "cell_type": "markdown",
   "metadata": {},
   "source": [
    "## Group 3 members:\n",
    "- Alvaro Zapata: Create \"for loop\" code to select every election round.\n",
    "- Diego Delgado: Create \"for loop\" code to select every election round.\n",
    "- Guadalupe Ramirez: Create code for scrap tables.\n",
    "- Daniela Flores: Create code for scrap tables.\n",
    "- Luis Quispe: Join loops and create for loop to select tables if a pagination box exists."
   ]
  },
  {
   "cell_type": "code",
   "execution_count": 1,
   "metadata": {},
   "outputs": [
    {
     "data": {
      "text/html": [
       "\n",
       "<style>\n",
       "    div#notebook-container    { width: 95%; }\n",
       "    div#menubar-container     { width: 65%; }\n",
       "    div#maintoolbar-container { width: 99%; }a\n",
       "</style>\n"
      ],
      "text/plain": [
       "<IPython.core.display.HTML object>"
      ]
     },
     "metadata": {},
     "output_type": "display_data"
    }
   ],
   "source": [
    "from IPython.display import display, HTML\n",
    "\n",
    "display(HTML(data=\"\"\"\n",
    "<style>\n",
    "    div#notebook-container    { width: 95%; }\n",
    "    div#menubar-container     { width: 65%; }\n",
    "    div#maintoolbar-container { width: 99%; }a\n",
    "</style>\n",
    "\"\"\"))"
   ]
  },
  {
   "cell_type": "code",
   "execution_count": 2,
   "metadata": {},
   "outputs": [],
   "source": [
    "#!pip install selenium\n",
    "#!pip install webdriver-manager\n",
    "#!pip install pandas"
   ]
  },
  {
   "cell_type": "code",
   "execution_count": 3,
   "metadata": {},
   "outputs": [],
   "source": [
    "#!pip3 install lxml\n",
    "import lxml"
   ]
  },
  {
   "cell_type": "code",
   "execution_count": 4,
   "metadata": {},
   "outputs": [],
   "source": [
    "#!pip install openpyxl\n",
    "import openpyxl"
   ]
  },
  {
   "cell_type": "code",
   "execution_count": 5,
   "metadata": {},
   "outputs": [],
   "source": [
    "# this library is to manipulate browser\n",
    "from selenium import webdriver\n",
    "\n",
    "# it allows you to work with differen versions of drivers\n",
    "# We call ChromeDriver\n",
    "from webdriver_manager.chrome import ChromeDriverManager\n",
    "import re\n",
    "import time \n",
    "import random\n",
    "from selenium.webdriver.common.by import By\n",
    "import pandas as pd # for table import\n",
    "from selenium import webdriver\n",
    "from selenium.webdriver.chrome.service import Service"
   ]
  },
  {
   "cell_type": "code",
   "execution_count": 6,
   "metadata": {},
   "outputs": [
    {
     "data": {
      "text/plain": [
       "'C:\\\\Users\\\\luisc\\\\Documents\\\\GitHub\\\\Diplomado_PUCP\\\\Lecture_7\\\\Assignment_5'"
      ]
     },
     "execution_count": 6,
     "metadata": {},
     "output_type": "execute_result"
    }
   ],
   "source": [
    "pwd"
   ]
  },
  {
   "cell_type": "markdown",
   "metadata": {},
   "source": [
    "# Loop final\n"
   ]
  },
  {
   "cell_type": "code",
   "execution_count": null,
   "metadata": {},
   "outputs": [],
   "source": [
    "#Run packages\n",
    "\n",
    "# Create a dataframe to collect the results (out of the for loop)\n",
    "results = pd.DataFrame()\n",
    "\n",
    "#################################\n",
    "# loop starts here\n",
    "#################################\n",
    "\n",
    "# Open driver\n",
    "\n",
    "service = Service(executable_path=\"../chromedriver-win64/chromedriver.exe\")\n",
    "options = webdriver.ChromeOptions()\n",
    "driver = webdriver.Chrome(service=service, options=options)\n",
    "\n",
    "# Enter in the website\n",
    "url = 'https://infogob.jne.gob.pe/Eleccion'\n",
    "driver.get(url)\n",
    "time.sleep(7)\n",
    "\n",
    "\n",
    "# First loop, to select all election rounds\n",
    "for periodo in range(26, 1, -1): #Iterated over a range of electoral rounds (from 26 to 1 in the reverse direction)\n",
    "\n",
    "    # Open first selection box **(relevant in the for loop)**\n",
    "    proceso = driver.find_element(By.XPATH, '/html/body/div[1]/section/div[2]/div[2]/div[2]/div[1]/div') # use selenium to find an element using XPATH\n",
    "    proceso.click() #a function is activated by clicking\n",
    "    time.sleep(random.randint(5,6)) #Pause the script for 5 seconds\n",
    "\n",
    "    # Select \"PROCESO PRESIDENCIAL\"\n",
    "    presidencial = driver.find_element(By.XPATH, '/html/body/div[1]/section/div[2]/div[2]/div[2]/div[1]/div/div[2]/div[2]')\n",
    "    presidencial.click() \n",
    "    time.sleep(random.randint(5,6))\n",
    "\n",
    "    # Open second box\n",
    "    eleccion = driver.find_element(By.XPATH, '/html/body/div[1]/section/div[2]/div[2]/div[2]/div[2]/div')\n",
    "    eleccion.click()\n",
    "    time.sleep(random.randint(5,6))\n",
    "    \n",
    "    # select every round\n",
    "    periodo_xpath = f'/html/body/div[1]/section/div[2]/div[2]/div[2]/div[2]/div/div[2]/div[{periodo}]'\n",
    "    periodo_element = driver.find_element(By.XPATH, periodo_xpath)\n",
    "    periodo_element.click()\n",
    "\n",
    "    # get text\n",
    "    elecciones_name = periodo_element.text #the visible text of the page is captured\n",
    "    time.sleep(random.randint(5,6))\n",
    "\n",
    "    # Click in search box\n",
    "    buscar = driver.find_element(By.XPATH, '/html/body/div[1]/section/div[2]/div[2]/div[3]/div/button')\n",
    "    buscar.click()\n",
    "    time.sleep(random.randint(5,6))\n",
    "\n",
    "    # Click \"Resultados\"\n",
    "    resultados = driver.find_element(By.XPATH, '/html/body/div[1]/section/div[2]/div[3]/div[1]/ul/li[2]/a')\n",
    "    resultados.click()\n",
    "    time.sleep(random.randint(5,6))\n",
    "\n",
    "    # Get table\n",
    "    raw_table = driver.find_element(By.XPATH, \"/html/body/div[1]/section/div[2]/div[3]/div[3]/div/div/div/div[1]/div[2]/div[2]/div[2]\" )\n",
    "    raw_table_html = raw_table.get_attribute( 'innerHTML' ) #This captures all the HTML contained within the table element\n",
    "\n",
    "    # Organize the table\n",
    "    tabla = pd.read_html(raw_table_html)[0]\n",
    "    tabla_final = tabla[['ORGANIZACIÓN POLÍTICA', 'TOTAL VOTOS']]  #keep the most important columns\n",
    "    tabla_final.insert(0,'Elecciones', elecciones_name)            #insert the name of round of election in the fisrt column\n",
    "\n",
    "    # Append the table in the results dataframe **(relevant in the for loop)**\n",
    "    results = pd.concat([results, tabla_final], ignore_index=True)\n",
    "    \n",
    "    #Second loop to check extra pages in the html source text\n",
    "    html_source = driver.page_source #Uses the full HTML of the page as it is after all interactions\n",
    "    #reset number of pages counter\n",
    "    pages=0\n",
    "\n",
    "    if '<a href=\"javascript:void(0)\">5</a>' in html_source:\n",
    "        pages=5\n",
    "    elif '<a href=\"javascript:void(0)\">4</a>' in html_source:\n",
    "        pages=4\n",
    "    elif '<a href=\"javascript:void(0)\">3</a>' in html_source:\n",
    "        pages=3\n",
    "    elif '<a href=\"javascript:void(0)\">2</a>' in html_source:\n",
    "        pages=2\n",
    "    else:\n",
    "        pass #\"pages\" will remain zero if none of the expected fragments are found in the HTML source\n",
    "\n",
    "    # Third loop to get the next pages if they exists\n",
    "    if pages>1:\n",
    "        a = range(3, pages+2, 1)\n",
    "        for n in a:\n",
    "            time.sleep(5)\n",
    "            page_xpath = f'/html/body/div[1]/section/div[2]/div[3]/div[3]/div/div/div/div[1]/div[2]/div[2]/div[4]/div[2]/ul/li[{n}]/a'\n",
    "            next_page = driver.find_element(By.XPATH, page_xpath)\n",
    "            next_page.click()\n",
    "\n",
    "            # Get table\n",
    "            raw_table = driver.find_element(By.XPATH, \"/html/body/div[1]/section/div[2]/div[3]/div[3]/div/div/div/div[1]/div[2]/div[2]/div[2]\" )\n",
    "            raw_table_html = raw_table.get_attribute( 'innerHTML' )\n",
    "\n",
    "            # Organize the table\n",
    "            tabla = pd.read_html(raw_table_html)[0]\n",
    "            tabla_final = tabla[['ORGANIZACIÓN POLÍTICA', 'TOTAL VOTOS']]  #keep the most important columns\n",
    "            tabla_final.insert(0,'Elecciones', elecciones_name)            #insert the name of round of election in the fisrt column\n",
    "\n",
    "            # Append the table in the results dataframe **(relevant in the for loop)**\n",
    "            results = pd.concat([results, tabla_final], ignore_index=True)\n",
    "\n",
    "    else:\n",
    "        pass #If there is only one page, nothing is done\n",
    "\n",
    "    # We go back to search for the remaining tables\n",
    "    back = driver.find_element(By.XPATH , '/html/body/div[1]/section/div[1]/a[2]')\n",
    "    back.click()\n",
    "    time.sleep(random.randint(2,3))\n"
   ]
  },
  {
   "cell_type": "code",
   "execution_count": null,
   "metadata": {},
   "outputs": [],
   "source": [
    "# Quit from the driver\n",
    "driver.close()\n",
    "\n",
    "#See results\n",
    "results"
   ]
  },
  {
   "cell_type": "code",
   "execution_count": null,
   "metadata": {},
   "outputs": [],
   "source": [
    "# After finishing the loop, export the result table as an Excel file\n",
    "\n",
    "results.to_excel('Results_group3.xlsx', index=False)"
   ]
  }
 ],
 "metadata": {
  "hide_input": false,
  "kernelspec": {
   "display_name": "Python 3 (ipykernel)",
   "language": "python",
   "name": "python3"
  },
  "language_info": {
   "codemirror_mode": {
    "name": "ipython",
    "version": 3
   },
   "file_extension": ".py",
   "mimetype": "text/x-python",
   "name": "python",
   "nbconvert_exporter": "python",
   "pygments_lexer": "ipython3",
   "version": "3.9.12"
  },
  "toc": {
   "base_numbering": 1,
   "nav_menu": {},
   "number_sections": true,
   "sideBar": true,
   "skip_h1_title": false,
   "title_cell": "Table of Contents",
   "title_sidebar": "Contents",
   "toc_cell": false,
   "toc_position": {},
   "toc_section_display": true,
   "toc_window_display": false
  }
 },
 "nbformat": 4,
 "nbformat_minor": 4
}
