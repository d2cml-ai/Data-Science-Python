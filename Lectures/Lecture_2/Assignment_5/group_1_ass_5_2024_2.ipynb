{
 "cells": [
  {
   "cell_type": "markdown",
   "metadata": {},
   "source": [
    "**Group members** :\n",
    "- Max Chipani\n",
    "- Jesus Gamboa\n",
    "- Karen Salazar\n",
    "- Paolo Gutierrez\n",
    "- Luis Camarena"
   ]
  },
  {
   "cell_type": "markdown",
   "metadata": {},
   "source": [
    "Assignment 5\n",
    "The script should not give an error. Any mistake will be consider as 0.\n"
   ]
  },
  {
   "cell_type": "markdown",
   "metadata": {},
   "source": [
    "# Installing and Importing Libraries"
   ]
  },
  {
   "cell_type": "code",
   "execution_count": 2,
   "metadata": {},
   "outputs": [],
   "source": [
    "# !pip install selenium\n",
    "# !pip install webdriver-manager"
   ]
  },
  {
   "cell_type": "code",
   "execution_count": 3,
   "metadata": {},
   "outputs": [],
   "source": [
    "from selenium import webdriver\n",
    "from selenium.webdriver.edge.service import Service\n",
    "from selenium.webdriver.edge.options import Options\n",
    "from selenium.webdriver.common.by import By\n",
    "from selenium.webdriver.support.ui import Select\n",
    "from io import StringIO\n",
    "from selenium.webdriver.support.ui import WebDriverWait\n",
    "from selenium.webdriver.support import expected_conditions as EC\n",
    "from selenium.common.exceptions import TimeoutException, ElementClickInterceptedException\n",
    "from webdriver_manager.chrome import ChromeDriverManager\n",
    "from selenium.webdriver.chrome.service import Service\n",
    "from selenium.webdriver.chrome.options import Options\n",
    "from tqdm import tqdm\n",
    "\n",
    "import re\n",
    "import time\n",
    "import pandas as pd\n",
    "import os"
   ]
  },
  {
   "cell_type": "markdown",
   "metadata": {},
   "source": [
    "This section imports the necessary libraries for automating web interactions and data processing. Selenium is used for browser automation, enabling control over the Chrome browser via WebDriver. The webdriver_manager library simplifies the setup process by automatically managing the ChromeDriver installation. Other imported libraries (re, time, pandas, os) provide essential tools for tasks like data parsing, time handling, and file management. tqdm is included for displaying progress bars, which is useful for monitoring long-running operations."
   ]
  },
  {
   "cell_type": "markdown",
   "metadata": {},
   "source": [
    "# Configuring the WebDriver Instance and Service"
   ]
  },
  {
   "cell_type": "code",
   "execution_count": 4,
   "metadata": {},
   "outputs": [],
   "source": [
    "edge_options = Options()\n",
    "edge_options.use_chromium = True\n",
    "\n",
    "# service = Service('C://Users//Paolo//Desktop//WE//msedgedriver.exe')\n",
    "service = Service(executable_path=\"chromedriver-win64/chromedriver.exe\")"
   ]
  },
  {
   "cell_type": "markdown",
   "metadata": {},
   "source": [
    "The code sets up options for the WebDriver, initially for Edge but then adapted for Chrome. The use of webdriver_manager eliminates the need for manually specifying the path to the ChromeDriver executable, enhancing portability and ease of setup."
   ]
  },
  {
   "cell_type": "markdown",
   "metadata": {},
   "source": [
    "# Launching the Browser Instance"
   ]
  },
  {
   "cell_type": "code",
   "execution_count": 5,
   "metadata": {},
   "outputs": [],
   "source": [
    "driver = webdriver.Chrome(service=webdriver.chrome.service.Service(ChromeDriverManager().install()))\n",
    "\n",
    "# Maximizando y configurando el zoom\n",
    "driver.maximize_window()\n",
    "driver.execute_script(\"document.body.style.zoom='100%'\")"
   ]
  },
  {
   "cell_type": "markdown",
   "metadata": {},
   "source": [
    "The browser instance is initiated, now using Chrome instead of Edge. The code maximizes the browser window and sets the zoom level to 100% to ensure that the webpage elements are displayed correctly, which is critical for consistent interaction during web scraping."
   ]
  },
  {
   "cell_type": "markdown",
   "metadata": {},
   "source": [
    "# Calculating the number of elections"
   ]
  },
  {
   "cell_type": "code",
   "execution_count": 6,
   "metadata": {},
   "outputs": [],
   "source": [
    "# Opens the JNE page\n",
    "driver.get(\"https://infogob.jne.gob.pe/Eleccion\")\n",
    "# Waits for 10 seconds to allow the page to fully load before proceeding; increase if internet connection is slow\n",
    "time.sleep(10)\n",
    "\n",
    "# Clicks on the dropdown list to display the available election types\n",
    "driver.find_element(By.XPATH, '//*[@id=\"section\"]/div[2]/div[2]/div[2]/div[1]/div').click() \n",
    "time.sleep(3) # Waits 3 seconds; increase if internet connection is slow\n",
    "\n",
    "# Selects the presidential election option from the dropdown list\n",
    "driver.find_element(By.XPATH, '//*[@id=\"section\"]/div[2]/div[2]/div[2]/div[1]/div/div[2]/div[2]').click() \n",
    "time.sleep(3) # Waits 3 seconds; increase if internet connection is slow"
   ]
  },
  {
   "cell_type": "code",
   "execution_count": 7,
   "metadata": {},
   "outputs": [
    {
     "data": {
      "text/plain": [
       "['PRESIDENCIAL 2021 - 2DA VUELTA',\n",
       " 'PRESIDENCIAL 2021',\n",
       " 'PRESIDENCIAL 2016 - 2DA VUELTA',\n",
       " 'PRESIDENCIAL 2016',\n",
       " 'PRESIDENCIAL 2011 - 2DA VUELTA',\n",
       " 'PRESIDENCIAL 2011',\n",
       " 'PRESIDENCIAL 2006 - 2DA VUELTA',\n",
       " 'PRESIDENCIAL 2006',\n",
       " 'PRESIDENCIAL 2001 - 2DA VUELTA',\n",
       " 'PRESIDENCIAL 2001',\n",
       " 'PRESIDENCIAL 2000 - 2DA VUELTA',\n",
       " 'PRESIDENCIAL 2000',\n",
       " 'PRESIDENCIAL 1995',\n",
       " 'PRESIDENCIAL 1990 - 2DA VUELTA',\n",
       " 'PRESIDENCIAL 1990',\n",
       " 'PRESIDENCIAL 1985',\n",
       " 'PRESIDENCIAL 1980',\n",
       " 'PRESIDENCIAL 1963',\n",
       " 'PRESIDENCIAL 1962',\n",
       " 'PRESIDENCIAL 1956',\n",
       " 'PRESIDENCIAL 1950',\n",
       " 'PRESIDENCIAL 1945',\n",
       " 'PRESIDENCIAL 1939',\n",
       " 'PRESIDENCIAL 1936',\n",
       " 'PRESIDENCIAL 1931']"
      ]
     },
     "execution_count": 7,
     "metadata": {},
     "output_type": "execute_result"
    }
   ],
   "source": [
    "# Clicks on the dropdown list to display the available presidential elections\n",
    "driver.find_element(By.XPATH, '//*[@id=\"section\"]/div[2]/div[2]/div[2]/div[2]/div').click()\n",
    "time.sleep(3) # Waits 3 seconds; increase if internet connection is slow\n",
    "\n",
    "# Getting the list of elections\n",
    "items = driver.find_elements(By.XPATH, '//*[@id=\"section\"]/div[2]/div[2]/div[2]/div[2]/div/div[2]')\n",
    "elecciones = items[0].text.split('\\n') # Extracts the text and splits it into a list by line breaks\n",
    "elecciones = elecciones[1:] # Removes the first element, which is an irrelevant text ([SELECCIONE])\n",
    "elecciones # Outputs the final list of elections"
   ]
  },
  {
   "cell_type": "code",
   "execution_count": 8,
   "metadata": {},
   "outputs": [
    {
     "data": {
      "text/plain": [
       "25"
      ]
     },
     "execution_count": 8,
     "metadata": {},
     "output_type": "execute_result"
    }
   ],
   "source": [
    "# Gets the number of elections in the list\n",
    "len(elecciones)"
   ]
  },
  {
   "cell_type": "markdown",
   "metadata": {},
   "source": [
    "# Defining functions"
   ]
  },
  {
   "cell_type": "markdown",
   "metadata": {},
   "source": [
    "## Function that extracts a table and saves it into a list"
   ]
  },
  {
   "cell_type": "code",
   "execution_count": 9,
   "metadata": {},
   "outputs": [],
   "source": [
    "def extrae_tabla():\n",
    "    # Find the element containing the table and get its HTML content\n",
    "    tabla = driver.find_element(By.XPATH, '//*[@id=\"CandidatosResultados\"]/div/div[1]/div[2]/div[2]').get_attribute('innerHTML')\n",
    "    tabla_1 = StringIO(tabla)\n",
    "    # Use pandas to read the HTML content and convert it into a DataFrame\n",
    "    data = pd.read_html(tabla_1)\n",
    "    # Return the first DataFrame found\n",
    "    return data[0]"
   ]
  },
  {
   "cell_type": "markdown",
   "metadata": {},
   "source": [
    "## Next button function"
   ]
  },
  {
   "cell_type": "markdown",
   "metadata": {},
   "source": [
    "Evaluate if the electoral results table has more than one part (returns True) and move to the next part"
   ]
  },
  {
   "cell_type": "code",
   "execution_count": 10,
   "metadata": {},
   "outputs": [],
   "source": [
    " def boton_siguiente(i):\n",
    "    try:\n",
    "         # Wait until the next button is clickable, with a maximum wait time of 10 seconds\n",
    "        next_button = WebDriverWait(driver, 10).until(\n",
    "            EC.element_to_be_clickable((By.XPATH, f'//*[@id=\"CandidatosResultados\"]/div/div[1]/div[2]/div[2]/div[4]/div[2]/ul/li[{i}]/a'))\n",
    "        )\n",
    "        # Click the next button\n",
    "        next_button.click()\n",
    "        return True\n",
    "    except (TimeoutException, ElementClickInterceptedException):\n",
    "        # Return False if the button is not clickable or if there's a timeout\n",
    "        return False"
   ]
  },
  {
   "cell_type": "markdown",
   "metadata": {},
   "source": [
    "# Obtaining the tables with the results"
   ]
  },
  {
   "cell_type": "code",
   "execution_count": 11,
   "metadata": {},
   "outputs": [
    {
     "name": "stderr",
     "output_type": "stream",
     "text": [
      "Progreso::   0%|                                                                                | 0/25 [00:00<?, ?it/s]"
     ]
    },
    {
     "name": "stdout",
     "output_type": "stream",
     "text": [
      "1 PRESIDENCIAL 2021 - 2DA VUELTA\n",
      "Pagina:  1\n"
     ]
    },
    {
     "name": "stderr",
     "output_type": "stream",
     "text": [
      "Progreso::   4%|██▉                                                                     | 1/25 [00:47<19:06, 47.78s/it]"
     ]
    },
    {
     "name": "stdout",
     "output_type": "stream",
     "text": [
      "2 PRESIDENCIAL 2021\n",
      "Pagina:  1\n",
      "Pagina:  2\n"
     ]
    },
    {
     "name": "stderr",
     "output_type": "stream",
     "text": [
      "Progreso::   8%|█████▊                                                                  | 2/25 [01:18<14:34, 38.02s/it]"
     ]
    },
    {
     "name": "stdout",
     "output_type": "stream",
     "text": [
      "3 PRESIDENCIAL 2016 - 2DA VUELTA\n",
      "Pagina:  1\n"
     ]
    },
    {
     "name": "stderr",
     "output_type": "stream",
     "text": [
      "Progreso::  12%|████████▋                                                               | 3/25 [02:06<15:33, 42.43s/it]"
     ]
    },
    {
     "name": "stdout",
     "output_type": "stream",
     "text": [
      "4 PRESIDENCIAL 2016\n",
      "Pagina:  1\n",
      "Pagina:  2\n"
     ]
    },
    {
     "name": "stderr",
     "output_type": "stream",
     "text": [
      "Progreso::  16%|███████████▌                                                            | 4/25 [02:35<13:00, 37.16s/it]"
     ]
    },
    {
     "name": "stdout",
     "output_type": "stream",
     "text": [
      "5 PRESIDENCIAL 2011 - 2DA VUELTA\n",
      "Pagina:  1\n"
     ]
    },
    {
     "name": "stderr",
     "output_type": "stream",
     "text": [
      "Progreso::  20%|██████████████▍                                                         | 5/25 [03:15<12:41, 38.09s/it]"
     ]
    },
    {
     "name": "stdout",
     "output_type": "stream",
     "text": [
      "6 PRESIDENCIAL 2011\n",
      "Pagina:  1\n",
      "Pagina:  2\n"
     ]
    },
    {
     "name": "stderr",
     "output_type": "stream",
     "text": [
      "Progreso::  24%|█████████████████▎                                                      | 6/25 [03:46<11:18, 35.73s/it]"
     ]
    },
    {
     "name": "stdout",
     "output_type": "stream",
     "text": [
      "7 PRESIDENCIAL 2006 - 2DA VUELTA\n",
      "Pagina:  1\n"
     ]
    },
    {
     "name": "stderr",
     "output_type": "stream",
     "text": [
      "Progreso::  28%|████████████████████▏                                                   | 7/25 [04:21<10:37, 35.44s/it]"
     ]
    },
    {
     "name": "stdout",
     "output_type": "stream",
     "text": [
      "8 PRESIDENCIAL 2006\n",
      "Pagina:  1\n",
      "Pagina:  2\n",
      "Pagina:  3\n"
     ]
    },
    {
     "name": "stderr",
     "output_type": "stream",
     "text": [
      "Progreso::  32%|███████████████████████                                                 | 8/25 [04:47<09:11, 32.42s/it]"
     ]
    },
    {
     "name": "stdout",
     "output_type": "stream",
     "text": [
      "9 PRESIDENCIAL 2001 - 2DA VUELTA\n",
      "Pagina:  1\n"
     ]
    },
    {
     "name": "stderr",
     "output_type": "stream",
     "text": [
      "Progreso::  36%|█████████████████████████▉                                              | 9/25 [05:21<08:46, 32.90s/it]"
     ]
    },
    {
     "name": "stdout",
     "output_type": "stream",
     "text": [
      "10 PRESIDENCIAL 2001\n",
      "Pagina:  1\n"
     ]
    },
    {
     "name": "stderr",
     "output_type": "stream",
     "text": [
      "Progreso::  40%|████████████████████████████▍                                          | 10/25 [05:54<08:16, 33.07s/it]"
     ]
    },
    {
     "name": "stdout",
     "output_type": "stream",
     "text": [
      "11 PRESIDENCIAL 2000 - 2DA VUELTA\n",
      "Pagina:  1\n"
     ]
    },
    {
     "name": "stderr",
     "output_type": "stream",
     "text": [
      "Progreso::  44%|███████████████████████████████▏                                       | 11/25 [06:27<07:42, 33.06s/it]"
     ]
    },
    {
     "name": "stdout",
     "output_type": "stream",
     "text": [
      "12 PRESIDENCIAL 2000\n",
      "Pagina:  1\n",
      "Pagina:  2\n"
     ]
    },
    {
     "name": "stderr",
     "output_type": "stream",
     "text": [
      "Progreso::  48%|██████████████████████████████████                                     | 12/25 [06:52<06:37, 30.54s/it]"
     ]
    },
    {
     "name": "stdout",
     "output_type": "stream",
     "text": [
      "13 PRESIDENCIAL 1995\n",
      "Pagina:  1\n",
      "Pagina:  2\n"
     ]
    },
    {
     "name": "stderr",
     "output_type": "stream",
     "text": [
      "Progreso::  52%|████████████████████████████████████▉                                  | 13/25 [07:17<05:44, 28.71s/it]"
     ]
    },
    {
     "name": "stdout",
     "output_type": "stream",
     "text": [
      "14 PRESIDENCIAL 1990 - 2DA VUELTA\n",
      "Pagina:  1\n"
     ]
    },
    {
     "name": "stderr",
     "output_type": "stream",
     "text": [
      "Progreso::  56%|███████████████████████████████████████▊                               | 14/25 [07:50<05:31, 30.17s/it]"
     ]
    },
    {
     "name": "stdout",
     "output_type": "stream",
     "text": [
      "15 PRESIDENCIAL 1990\n",
      "Pagina:  1\n",
      "Pagina:  2\n"
     ]
    },
    {
     "name": "stderr",
     "output_type": "stream",
     "text": [
      "Progreso::  60%|██████████████████████████████████████████▌                            | 15/25 [08:15<04:44, 28.47s/it]"
     ]
    },
    {
     "name": "stdout",
     "output_type": "stream",
     "text": [
      "16 PRESIDENCIAL 1985\n",
      "Pagina:  1\n",
      "Pagina:  2\n"
     ]
    },
    {
     "name": "stderr",
     "output_type": "stream",
     "text": [
      "Progreso::  64%|█████████████████████████████████████████████▍                         | 16/25 [08:39<04:04, 27.20s/it]"
     ]
    },
    {
     "name": "stdout",
     "output_type": "stream",
     "text": [
      "17 PRESIDENCIAL 1980\n",
      "Pagina:  1\n",
      "Pagina:  2\n"
     ]
    },
    {
     "name": "stderr",
     "output_type": "stream",
     "text": [
      "Progreso::  68%|████████████████████████████████████████████████▎                      | 17/25 [09:04<03:31, 26.43s/it]"
     ]
    },
    {
     "name": "stdout",
     "output_type": "stream",
     "text": [
      "18 PRESIDENCIAL 1963\n",
      "Pagina:  1\n"
     ]
    },
    {
     "name": "stderr",
     "output_type": "stream",
     "text": [
      "Progreso::  72%|███████████████████████████████████████████████████                    | 18/25 [09:38<03:20, 28.70s/it]"
     ]
    },
    {
     "name": "stdout",
     "output_type": "stream",
     "text": [
      "19 PRESIDENCIAL 1962\n",
      "Pagina:  1\n"
     ]
    },
    {
     "name": "stderr",
     "output_type": "stream",
     "text": [
      "Progreso::  76%|█████████████████████████████████████████████████████▉                 | 19/25 [10:11<03:01, 30.21s/it]"
     ]
    },
    {
     "name": "stdout",
     "output_type": "stream",
     "text": [
      "20 PRESIDENCIAL 1956\n",
      "Pagina:  1\n"
     ]
    },
    {
     "name": "stderr",
     "output_type": "stream",
     "text": [
      "Progreso::  80%|████████████████████████████████████████████████████████▊              | 20/25 [10:45<02:36, 31.26s/it]"
     ]
    },
    {
     "name": "stdout",
     "output_type": "stream",
     "text": [
      "21 PRESIDENCIAL 1950\n",
      "Pagina:  1\n"
     ]
    },
    {
     "name": "stderr",
     "output_type": "stream",
     "text": [
      "Progreso::  84%|███████████████████████████████████████████████████████████▋           | 21/25 [11:19<02:08, 32.08s/it]"
     ]
    },
    {
     "name": "stdout",
     "output_type": "stream",
     "text": [
      "22 PRESIDENCIAL 1945\n",
      "Pagina:  1\n"
     ]
    },
    {
     "name": "stderr",
     "output_type": "stream",
     "text": [
      "Progreso::  88%|██████████████████████████████████████████████████████████████▍        | 22/25 [11:53<01:37, 32.53s/it]"
     ]
    },
    {
     "name": "stdout",
     "output_type": "stream",
     "text": [
      "23 PRESIDENCIAL 1939\n",
      "Pagina:  1\n"
     ]
    },
    {
     "name": "stderr",
     "output_type": "stream",
     "text": [
      "Progreso::  92%|█████████████████████████████████████████████████████████████████▎     | 23/25 [12:26<01:05, 32.93s/it]"
     ]
    },
    {
     "name": "stdout",
     "output_type": "stream",
     "text": [
      "24 PRESIDENCIAL 1936\n",
      "Pagina:  1\n"
     ]
    },
    {
     "name": "stderr",
     "output_type": "stream",
     "text": [
      "Progreso::  96%|████████████████████████████████████████████████████████████████████▏  | 24/25 [13:00<00:33, 33.15s/it]"
     ]
    },
    {
     "name": "stdout",
     "output_type": "stream",
     "text": [
      "25 PRESIDENCIAL 1931\n",
      "Pagina:  1\n"
     ]
    },
    {
     "name": "stderr",
     "output_type": "stream",
     "text": [
      "Progreso:: 100%|███████████████████████████████████████████████████████████████████████| 25/25 [13:34<00:00, 32.57s/it]\n"
     ]
    }
   ],
   "source": [
    "# Obtaining each table for each presidential elecction\n",
    "all_data = []\n",
    "for x in tqdm(range(1, len(elecciones) + 1), desc='Progreso:'):\n",
    "    # Web page to Scrap\n",
    "    driver.get(\"https://infogob.jne.gob.pe/Eleccion\")\n",
    "    time.sleep(3)\n",
    "\n",
    "    # Selecting process type = \"elecciones presidenciales\" \n",
    "    driver.find_element(By.XPATH, '//*[@id=\"section\"]/div[2]/div[2]/div[2]/div[1]/div').click()\n",
    "    time.sleep(3)\n",
    "    driver.find_element(By.XPATH, '//*[@id=\"section\"]/div[2]/div[2]/div[2]/div[1]/div/div[2]/div[2]').click()\n",
    "    time.sleep(3)\n",
    "\n",
    "    # List of elections\n",
    "    driver.find_element(By.XPATH, '//*[@id=\"section\"]/div[2]/div[2]/div[2]/div[2]/div').click()\n",
    "    time.sleep(3)\n",
    "\n",
    "    # Selecting each presidential election\n",
    "    # Used \"y\" to iterate between all elections starting from div[2]. div[1] = \"[SELECCIONE]\" on the web page.\n",
    "    y = x + 1\n",
    "    driver.find_element(By.XPATH, f'//*[@id=\"section\"]/div[2]/div[2]/div[2]/div[2]/div/div[2]/div[{y}]').click()\n",
    "    time.sleep(3)\n",
    "\n",
    "    # Click on \"Ver datos de la eleccion\"\n",
    "    driver.find_element(By.XPATH, '//*[@id=\"btnVerDatos\"]/span').click()\n",
    "    time.sleep(3)\n",
    "\n",
    "    # click on \"Candidatos y resultados\"\n",
    "    driver.find_element(By.XPATH, '//*[@id=\"section\"]/div[2]/div[3]/div[1]/ul/li[2]/a').click()\n",
    "    time.sleep(3)\n",
    "\n",
    "    # Saving the election table\n",
    "    # i = 3 because it is the XPATH of number of the table. Beginning in table 1\n",
    "    i = 3\n",
    "    print(x, elecciones[x - 1])\n",
    "    while True:\n",
    "        # Getting the table of results\n",
    "        aux = extrae_tabla()\n",
    "\n",
    "        # Adding the column 'Elecciones'\n",
    "        aux['Elecciones'] = elecciones[x - 1]\n",
    "\n",
    "        # Appending new table in the master data\n",
    "        all_data.append(aux)\n",
    "        print('Pagina: ', i - 2)\n",
    "\n",
    "        # If exist a next table in the election page, click to the next table. Else, finish the bucle.\n",
    "        if boton_siguiente(i):\n",
    "            i += 1\n",
    "        else:\n",
    "            break\n"
   ]
  },
  {
   "cell_type": "code",
   "execution_count": 20,
   "metadata": {},
   "outputs": [],
   "source": [
    "# Appending all tables\n",
    "data_elecciones = pd.DataFrame()\n",
    "for x in all_data:\n",
    "    data_elecciones = pd.concat([data_elecciones, x], axis=0)\n",
    "\n",
    "# Editing final data frame\n",
    "data_elecciones = data_elecciones.reset_index(drop=True)\n",
    "data_elecciones = data_elecciones[['Elecciones', 'ORGANIZACIÓN POLÍTICA', 'TOTAL VOTOS']]"
   ]
  },
  {
   "cell_type": "code",
   "execution_count": 21,
   "metadata": {},
   "outputs": [],
   "source": [
    "# Exporting to Excel file\n",
    "os.getcwd()\n",
    "data_elecciones.to_excel('Data_Elecciones_group_1_ass_5_2024_2.xlsx', sheet_name='Data', index=False)"
   ]
  }
 ],
 "metadata": {
  "hide_input": false,
  "kernelspec": {
   "display_name": "selenium_env",
   "language": "python",
   "name": "selenium_env"
  },
  "language_info": {
   "codemirror_mode": {
    "name": "ipython",
    "version": 3
   },
   "file_extension": ".py",
   "mimetype": "text/x-python",
   "name": "python",
   "nbconvert_exporter": "python",
   "pygments_lexer": "ipython3",
   "version": "3.12.4"
  },
  "toc": {
   "base_numbering": 1,
   "nav_menu": {},
   "number_sections": true,
   "sideBar": true,
   "skip_h1_title": false,
   "title_cell": "Table of Contents",
   "title_sidebar": "Contents",
   "toc_cell": false,
   "toc_position": {},
   "toc_section_display": true,
   "toc_window_display": false
  }
 },
 "nbformat": 4,
 "nbformat_minor": 4
}
