{
 "cells": [
  {
   "cell_type": "code",
   "execution_count": 2,
   "id": "b6a71ee6",
   "metadata": {},
   "outputs": [],
   "source": [
    "# this library is to manipulate browser\n",
    "from selenium import webdriver\n",
    "\n",
    "# We call ChromeDriver\n",
    "from webdriver_manager.chrome import ChromeDriverManager\n",
    "import re\n",
    "import time\n",
    "from selenium import webdriver\n",
    "from selenium.webdriver.chrome.service import Service\n",
    "from selenium.webdriver.common.by import By\n",
    "import pandas as pd\n",
    "\n",
    "from selenium import webdriver\n",
    "from webdriver_manager.chrome import ChromeDriverManager\n",
    "import unidecode"
   ]
  },
  {
   "cell_type": "code",
   "execution_count": 3,
   "id": "9284ea53",
   "metadata": {},
   "outputs": [],
   "source": [
    "# Case 1 - Download the driver using ChromeDriverManager\n",
    "service = Service(executable_path=\"chromedriver-win64/chromedriver.exe\")\n",
    "driver = webdriver.Chrome(service=service)\n",
    "\n",
    "#driver.maximize_window()\n",
    "url = 'https://appbp.contraloria.gob.pe/BuscadorCGR/Informes/Avanzado.html'\n",
    "driver.get(url)\n"
   ]
  },
  {
   "cell_type": "code",
   "execution_count": 5,
   "id": "8d02e90f",
   "metadata": {},
   "outputs": [],
   "source": [
    "driver.maximize_window()"
   ]
  },
  {
   "cell_type": "code",
   "execution_count": 12,
   "id": "6f6a4b2e",
   "metadata": {},
   "outputs": [],
   "source": [
    "pdf = driver.find_element(By.XPATH, \"/html/body/div[1]/div/main/div/div[9]/div/div/label/div/table/tbody/tr[1]/td[14]/div/a/img\")"
   ]
  },
  {
   "cell_type": "code",
   "execution_count": 16,
   "id": "f8cb3856",
   "metadata": {},
   "outputs": [
    {
     "ename": "AttributeError",
     "evalue": "'WebElement' object has no attribute 'url'",
     "output_type": "error",
     "traceback": [
      "\u001b[1;31m---------------------------------------------------------------------------\u001b[0m",
      "\u001b[1;31mAttributeError\u001b[0m                            Traceback (most recent call last)",
      "\u001b[1;32mC:\\Users\\ALEXAN~1\\AppData\\Local\\Temp/ipykernel_35468/259628512.py\u001b[0m in \u001b[0;36m<module>\u001b[1;34m\u001b[0m\n\u001b[1;32m----> 1\u001b[1;33m \u001b[0mpdf\u001b[0m\u001b[1;33m.\u001b[0m\u001b[0murl\u001b[0m\u001b[1;33m(\u001b[0m\u001b[1;33m)\u001b[0m\u001b[1;33m\u001b[0m\u001b[1;33m\u001b[0m\u001b[0m\n\u001b[0m",
      "\u001b[1;31mAttributeError\u001b[0m: 'WebElement' object has no attribute 'url'"
     ]
    }
   ],
   "source": [
    "pdf.url()"
   ]
  },
  {
   "cell_type": "code",
   "execution_count": 19,
   "id": "ea7375fc",
   "metadata": {},
   "outputs": [
    {
     "data": {
      "text/plain": [
       "'https://appbp.contraloria.gob.pe/BuscadorCGR/Informes/Avanzado.html'"
      ]
     },
     "execution_count": 19,
     "metadata": {},
     "output_type": "execute_result"
    }
   ],
   "source": [
    "driver.current_url"
   ]
  },
  {
   "cell_type": "code",
   "execution_count": 10,
   "id": "f8234934",
   "metadata": {},
   "outputs": [],
   "source": [
    "import os\n",
    "import urllib.request"
   ]
  },
  {
   "cell_type": "code",
   "execution_count": 21,
   "id": "d89af672",
   "metadata": {},
   "outputs": [
    {
     "name": "stderr",
     "output_type": "stream",
     "text": [
      "C:\\Users\\ALEXAN~1\\AppData\\Local\\Temp/ipykernel_35468/2184013747.py:28: DeprecationWarning: find_elements_by_* commands are deprecated. Please use find_elements() instead\n",
      "  links = driver.find_elements_by_tag_name('a')\n"
     ]
    }
   ],
   "source": [
    "from selenium import webdriver\n",
    "import time\n",
    "import os\n",
    "import requests\n",
    "\n",
    "# Function to download PDF from a given URL\n",
    "def download_pdf(url, save_path):\n",
    "    response = requests.get(url)\n",
    "    with open(save_path, 'wb') as file:\n",
    "        file.write(response.content)\n",
    "\n",
    "# Path to save PDF files\n",
    "download_path = 'C:/Users/Alexander/Documents/GitHub/MediaLab_Summer_Python/_data'\n",
    "\n",
    "service = Service(executable_path=\"chromedriver-win64/chromedriver.exe\")\n",
    "driver = webdriver.Chrome(service=service)\n",
    "\n",
    "# URL of the webpage\n",
    "url = 'https://appbp.contraloria.gob.pe/BuscadorCGR/Informes/Avanzado.html'\n",
    "\n",
    "# Open the URL\n",
    "driver.get(url)\n",
    "driver.maximize_windows\n",
    "\n",
    "# Wait for the page to load\n",
    "time.sleep(5)  # Adjust this based on your internet speed\n",
    "\n",
    "# Find all <a> elements\n",
    "links = driver.find_elements_by_tag_name('a')\n",
    "\n",
    "# Counter for file naming\n",
    "file_counter = 1\n",
    "\n",
    "# Iterate over all links and download PDFs\n",
    "for link in links:\n",
    "    href = link.get_attribute('href')\n",
    "    # Check if the link is a PDF download link\n",
    "    if href and 'https://apps8.contraloria.gob.pe/SPIC/srvDownload/ViewPDF?' in href:\n",
    "        filename = f'pdf_{file_counter}.pdf'\n",
    "        file_counter += 1\n",
    "        save_file_path = os.path.join(download_path, filename)\n",
    "        download_pdf(href, save_file_path)\n",
    "        print(f'Downloaded: {filename}')\n",
    "\n",
    "# Close the browser\n",
    "#driver.quit()\n"
   ]
  },
  {
   "cell_type": "code",
   "execution_count": null,
   "id": "6ae26d61",
   "metadata": {},
   "outputs": [],
   "source": []
  }
 ],
 "metadata": {
  "kernelspec": {
   "display_name": "Python 3 (ipykernel)",
   "language": "python",
   "name": "python3"
  },
  "language_info": {
   "codemirror_mode": {
    "name": "ipython",
    "version": 3
   },
   "file_extension": ".py",
   "mimetype": "text/x-python",
   "name": "python",
   "nbconvert_exporter": "python",
   "pygments_lexer": "ipython3",
   "version": "3.9.7"
  }
 },
 "nbformat": 4,
 "nbformat_minor": 5
}
